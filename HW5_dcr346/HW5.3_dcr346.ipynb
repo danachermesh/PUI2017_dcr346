{
 "cells": [
  {
   "cell_type": "markdown",
   "metadata": {},
   "source": [
    "# Assignment 3: regression exercise\n",
    "## investigate linear relationships between fire arm possession, homicides by fire arms, and mass shootings for different countries, considering also the country GDP"
   ]
  },
  {
   "cell_type": "code",
   "execution_count": 1,
   "metadata": {
    "collapsed": false
   },
   "outputs": [
    {
     "name": "stdout",
     "output_type": "stream",
     "text": [
      "Populating the interactive namespace from numpy and matplotlib\n"
     ]
    }
   ],
   "source": [
    "from __future__ import print_function, division\n",
    "import pylab as pl\n",
    "import pandas as pd\n",
    "import numpy as np\n",
    "import scipy.stats\n",
    "%pylab inline\n",
    "import os"
   ]
  },
  {
   "cell_type": "code",
   "execution_count": 2,
   "metadata": {
    "collapsed": false
   },
   "outputs": [
    {
     "name": "stdout",
     "output_type": "stream",
     "text": [
      "/home/cusp/dcr346/PUIdata\n"
     ]
    }
   ],
   "source": [
    "PUIDATA = os.getenv(\"PUIDATA\")\n",
    "print (PUIDATA)"
   ]
  },
  {
   "cell_type": "code",
   "execution_count": 3,
   "metadata": {
    "collapsed": false
   },
   "outputs": [],
   "source": [
    "df_mur = pd.read_csv('World firearms murders and ownership - Sheet 1.csv')\n",
    "df_sh = pd.read_csv('data-pvLFI.csv')\n",
    "df_pop = pd.read_csv('API_SP.POP.TOTL_DS2_en_csv_v2.csv', skiprows = (0,2))\n",
    "df_gdp = pd.read_csv('API_NY.GDP.MKTP.CD_DS2_en_csv_v2.csv', skiprows = (0,2))"
   ]
  },
  {
   "cell_type": "code",
   "execution_count": 4,
   "metadata": {
    "collapsed": false
   },
   "outputs": [
    {
     "data": {
      "text/html": [
       "<div>\n",
       "<table border=\"1\" class=\"dataframe\">\n",
       "  <thead>\n",
       "    <tr style=\"text-align: right;\">\n",
       "      <th></th>\n",
       "      <th>Country Name</th>\n",
       "      <th>Number of homicides by firearm</th>\n",
       "      <th>Average total all civilian firearms</th>\n",
       "    </tr>\n",
       "  </thead>\n",
       "  <tbody>\n",
       "    <tr>\n",
       "      <th>0</th>\n",
       "      <td>Albania</td>\n",
       "      <td>56.0</td>\n",
       "      <td>270000.0</td>\n",
       "    </tr>\n",
       "    <tr>\n",
       "      <th>1</th>\n",
       "      <td>Algeria</td>\n",
       "      <td>20.0</td>\n",
       "      <td>1900000.0</td>\n",
       "    </tr>\n",
       "    <tr>\n",
       "      <th>2</th>\n",
       "      <td>Angola</td>\n",
       "      <td>NaN</td>\n",
       "      <td>2800000.0</td>\n",
       "    </tr>\n",
       "    <tr>\n",
       "      <th>3</th>\n",
       "      <td>Anguilla</td>\n",
       "      <td>1.0</td>\n",
       "      <td>NaN</td>\n",
       "    </tr>\n",
       "    <tr>\n",
       "      <th>4</th>\n",
       "      <td>Argentina</td>\n",
       "      <td>1198.0</td>\n",
       "      <td>3950000.0</td>\n",
       "    </tr>\n",
       "  </tbody>\n",
       "</table>\n",
       "</div>"
      ],
      "text/plain": [
       "  Country Name  Number of homicides by firearm  \\\n",
       "0      Albania                            56.0   \n",
       "1      Algeria                            20.0   \n",
       "2       Angola                             NaN   \n",
       "3     Anguilla                             1.0   \n",
       "4    Argentina                          1198.0   \n",
       "\n",
       "   Average total all civilian firearms  \n",
       "0                             270000.0  \n",
       "1                            1900000.0  \n",
       "2                            2800000.0  \n",
       "3                                  NaN  \n",
       "4                            3950000.0  "
      ]
     },
     "execution_count": 4,
     "metadata": {},
     "output_type": "execute_result"
    }
   ],
   "source": [
    "df_mur = df_mur[['Country/Territory','Number of homicides by firearm','Average total all civilian firearms']]\n",
    "df_mur.columns = ['Country Name','Number of homicides by firearm','Average total all civilian firearms']\n",
    "df_mur.head()"
   ]
  },
  {
   "cell_type": "code",
   "execution_count": 5,
   "metadata": {
    "collapsed": false
   },
   "outputs": [
    {
     "data": {
      "text/html": [
       "<div>\n",
       "<table border=\"1\" class=\"dataframe\">\n",
       "  <thead>\n",
       "    <tr style=\"text-align: right;\">\n",
       "      <th></th>\n",
       "      <th>Country</th>\n",
       "      <th>Guns/100 inhabitants</th>\n",
       "      <th>Number of mass shootings</th>\n",
       "    </tr>\n",
       "  </thead>\n",
       "  <tbody>\n",
       "    <tr>\n",
       "      <th>0</th>\n",
       "      <td>Australia</td>\n",
       "      <td>15.0</td>\n",
       "      <td>4</td>\n",
       "    </tr>\n",
       "    <tr>\n",
       "      <th>1</th>\n",
       "      <td>Austria</td>\n",
       "      <td>30.4</td>\n",
       "      <td>1</td>\n",
       "    </tr>\n",
       "    <tr>\n",
       "      <th>2</th>\n",
       "      <td>Beligium</td>\n",
       "      <td>17.2</td>\n",
       "      <td>2</td>\n",
       "    </tr>\n",
       "    <tr>\n",
       "      <th>3</th>\n",
       "      <td>Canada</td>\n",
       "      <td>30.8</td>\n",
       "      <td>4</td>\n",
       "    </tr>\n",
       "    <tr>\n",
       "      <th>4</th>\n",
       "      <td>Denmark</td>\n",
       "      <td>12.0</td>\n",
       "      <td>0</td>\n",
       "    </tr>\n",
       "  </tbody>\n",
       "</table>\n",
       "</div>"
      ],
      "text/plain": [
       "     Country  Guns/100 inhabitants  Number of mass shootings\n",
       "0  Australia                  15.0                         4\n",
       "1    Austria                  30.4                         1\n",
       "2   Beligium                  17.2                         2\n",
       "3     Canada                  30.8                         4\n",
       "4    Denmark                  12.0                         0"
      ]
     },
     "execution_count": 5,
     "metadata": {},
     "output_type": "execute_result"
    }
   ],
   "source": [
    "df_sh.head()"
   ]
  },
  {
   "cell_type": "code",
   "execution_count": 6,
   "metadata": {
    "collapsed": false
   },
   "outputs": [
    {
     "data": {
      "text/html": [
       "<div>\n",
       "<table border=\"1\" class=\"dataframe\">\n",
       "  <thead>\n",
       "    <tr style=\"text-align: right;\">\n",
       "      <th></th>\n",
       "      <th>Country Name</th>\n",
       "      <th>pop</th>\n",
       "    </tr>\n",
       "  </thead>\n",
       "  <tbody>\n",
       "    <tr>\n",
       "      <th>0</th>\n",
       "      <td>Aruba</td>\n",
       "      <td>102577.0</td>\n",
       "    </tr>\n",
       "    <tr>\n",
       "      <th>1</th>\n",
       "      <td>Afghanistan</td>\n",
       "      <td>30696958.0</td>\n",
       "    </tr>\n",
       "    <tr>\n",
       "      <th>2</th>\n",
       "      <td>Angola</td>\n",
       "      <td>25096150.0</td>\n",
       "    </tr>\n",
       "    <tr>\n",
       "      <th>3</th>\n",
       "      <td>Albania</td>\n",
       "      <td>2900401.0</td>\n",
       "    </tr>\n",
       "    <tr>\n",
       "      <th>4</th>\n",
       "      <td>Andorra</td>\n",
       "      <td>82431.0</td>\n",
       "    </tr>\n",
       "  </tbody>\n",
       "</table>\n",
       "</div>"
      ],
      "text/plain": [
       "  Country Name         pop\n",
       "0        Aruba    102577.0\n",
       "1  Afghanistan  30696958.0\n",
       "2       Angola  25096150.0\n",
       "3      Albania   2900401.0\n",
       "4      Andorra     82431.0"
      ]
     },
     "execution_count": 6,
     "metadata": {},
     "output_type": "execute_result"
    }
   ],
   "source": [
    "df_pop = df_pop[['Country Name','2012']]\n",
    "df_pop.columns = ['Country Name', 'pop']\n",
    "df_pop.head()"
   ]
  },
  {
   "cell_type": "code",
   "execution_count": 7,
   "metadata": {
    "collapsed": false
   },
   "outputs": [
    {
     "data": {
      "text/html": [
       "<div>\n",
       "<table border=\"1\" class=\"dataframe\">\n",
       "  <thead>\n",
       "    <tr style=\"text-align: right;\">\n",
       "      <th></th>\n",
       "      <th>Country Name</th>\n",
       "      <th>gdp</th>\n",
       "    </tr>\n",
       "  </thead>\n",
       "  <tbody>\n",
       "    <tr>\n",
       "      <th>0</th>\n",
       "      <td>Aruba</td>\n",
       "      <td>NaN</td>\n",
       "    </tr>\n",
       "    <tr>\n",
       "      <th>1</th>\n",
       "      <td>Afghanistan</td>\n",
       "      <td>2.053654e+10</td>\n",
       "    </tr>\n",
       "    <tr>\n",
       "      <th>2</th>\n",
       "      <td>Angola</td>\n",
       "      <td>1.153984e+11</td>\n",
       "    </tr>\n",
       "    <tr>\n",
       "      <th>3</th>\n",
       "      <td>Albania</td>\n",
       "      <td>1.231978e+10</td>\n",
       "    </tr>\n",
       "    <tr>\n",
       "      <th>4</th>\n",
       "      <td>Andorra</td>\n",
       "      <td>3.146152e+09</td>\n",
       "    </tr>\n",
       "  </tbody>\n",
       "</table>\n",
       "</div>"
      ],
      "text/plain": [
       "  Country Name           gdp\n",
       "0        Aruba           NaN\n",
       "1  Afghanistan  2.053654e+10\n",
       "2       Angola  1.153984e+11\n",
       "3      Albania  1.231978e+10\n",
       "4      Andorra  3.146152e+09"
      ]
     },
     "execution_count": 7,
     "metadata": {},
     "output_type": "execute_result"
    }
   ],
   "source": [
    "df_gdp = df_gdp[['Country Name','2012']]\n",
    "df_gdp.columns = ['Country Name', 'gdp']\n",
    "df_gdp.head()"
   ]
  },
  {
   "cell_type": "code",
   "execution_count": 8,
   "metadata": {
    "collapsed": false
   },
   "outputs": [
    {
     "data": {
      "text/html": [
       "<div>\n",
       "<table border=\"1\" class=\"dataframe\">\n",
       "  <thead>\n",
       "    <tr style=\"text-align: right;\">\n",
       "      <th></th>\n",
       "      <th>Country Name</th>\n",
       "      <th>Number of homicides by firearm</th>\n",
       "      <th>Average total all civilian firearms</th>\n",
       "      <th>Country</th>\n",
       "      <th>Guns/100 inhabitants</th>\n",
       "      <th>Number of mass shootings</th>\n",
       "    </tr>\n",
       "  </thead>\n",
       "  <tbody>\n",
       "    <tr>\n",
       "      <th>0</th>\n",
       "      <td>Australia</td>\n",
       "      <td>30.0</td>\n",
       "      <td>3050000.0</td>\n",
       "      <td>Australia</td>\n",
       "      <td>15.0</td>\n",
       "      <td>4</td>\n",
       "    </tr>\n",
       "    <tr>\n",
       "      <th>1</th>\n",
       "      <td>Austria</td>\n",
       "      <td>18.0</td>\n",
       "      <td>2500000.0</td>\n",
       "      <td>Austria</td>\n",
       "      <td>30.4</td>\n",
       "      <td>1</td>\n",
       "    </tr>\n",
       "    <tr>\n",
       "      <th>2</th>\n",
       "      <td>Canada</td>\n",
       "      <td>173.0</td>\n",
       "      <td>9950000.0</td>\n",
       "      <td>Canada</td>\n",
       "      <td>30.8</td>\n",
       "      <td>4</td>\n",
       "    </tr>\n",
       "    <tr>\n",
       "      <th>3</th>\n",
       "      <td>Denmark</td>\n",
       "      <td>15.0</td>\n",
       "      <td>650000.0</td>\n",
       "      <td>Denmark</td>\n",
       "      <td>12.0</td>\n",
       "      <td>0</td>\n",
       "    </tr>\n",
       "    <tr>\n",
       "      <th>4</th>\n",
       "      <td>Finland</td>\n",
       "      <td>24.0</td>\n",
       "      <td>2400000.0</td>\n",
       "      <td>Finland</td>\n",
       "      <td>45.3</td>\n",
       "      <td>2</td>\n",
       "    </tr>\n",
       "  </tbody>\n",
       "</table>\n",
       "</div>"
      ],
      "text/plain": [
       "  Country Name  Number of homicides by firearm  \\\n",
       "0    Australia                            30.0   \n",
       "1      Austria                            18.0   \n",
       "2       Canada                           173.0   \n",
       "3      Denmark                            15.0   \n",
       "4      Finland                            24.0   \n",
       "\n",
       "   Average total all civilian firearms    Country  Guns/100 inhabitants  \\\n",
       "0                            3050000.0  Australia                  15.0   \n",
       "1                            2500000.0    Austria                  30.4   \n",
       "2                            9950000.0     Canada                  30.8   \n",
       "3                             650000.0    Denmark                  12.0   \n",
       "4                            2400000.0    Finland                  45.3   \n",
       "\n",
       "   Number of mass shootings  \n",
       "0                         4  \n",
       "1                         1  \n",
       "2                         4  \n",
       "3                         0  \n",
       "4                         2  "
      ]
     },
     "execution_count": 8,
     "metadata": {},
     "output_type": "execute_result"
    }
   ],
   "source": [
    "df_ = df_mur.merge(df_sh, right_on=\"Country\", left_on=\"Country Name\")\n",
    "df_.head()"
   ]
  },
  {
   "cell_type": "code",
   "execution_count": 9,
   "metadata": {
    "collapsed": false
   },
   "outputs": [
    {
     "data": {
      "text/html": [
       "<div>\n",
       "<table border=\"1\" class=\"dataframe\">\n",
       "  <thead>\n",
       "    <tr style=\"text-align: right;\">\n",
       "      <th></th>\n",
       "      <th>Country Name</th>\n",
       "      <th>pop</th>\n",
       "      <th>gdp</th>\n",
       "    </tr>\n",
       "  </thead>\n",
       "  <tbody>\n",
       "    <tr>\n",
       "      <th>0</th>\n",
       "      <td>Aruba</td>\n",
       "      <td>102577.0</td>\n",
       "      <td>NaN</td>\n",
       "    </tr>\n",
       "    <tr>\n",
       "      <th>1</th>\n",
       "      <td>Afghanistan</td>\n",
       "      <td>30696958.0</td>\n",
       "      <td>2.053654e+10</td>\n",
       "    </tr>\n",
       "    <tr>\n",
       "      <th>2</th>\n",
       "      <td>Angola</td>\n",
       "      <td>25096150.0</td>\n",
       "      <td>1.153984e+11</td>\n",
       "    </tr>\n",
       "    <tr>\n",
       "      <th>3</th>\n",
       "      <td>Albania</td>\n",
       "      <td>2900401.0</td>\n",
       "      <td>1.231978e+10</td>\n",
       "    </tr>\n",
       "    <tr>\n",
       "      <th>4</th>\n",
       "      <td>Andorra</td>\n",
       "      <td>82431.0</td>\n",
       "      <td>3.146152e+09</td>\n",
       "    </tr>\n",
       "  </tbody>\n",
       "</table>\n",
       "</div>"
      ],
      "text/plain": [
       "  Country Name         pop           gdp\n",
       "0        Aruba    102577.0           NaN\n",
       "1  Afghanistan  30696958.0  2.053654e+10\n",
       "2       Angola  25096150.0  1.153984e+11\n",
       "3      Albania   2900401.0  1.231978e+10\n",
       "4      Andorra     82431.0  3.146152e+09"
      ]
     },
     "execution_count": 9,
     "metadata": {},
     "output_type": "execute_result"
    }
   ],
   "source": [
    "df_popgdp = df_pop.merge(df_gdp, right_on=\"Country Name\", left_on=\"Country Name\")\n",
    "df_popgdp.head()"
   ]
  },
  {
   "cell_type": "code",
   "execution_count": 10,
   "metadata": {
    "collapsed": false
   },
   "outputs": [
    {
     "data": {
      "text/html": [
       "<div>\n",
       "<table border=\"1\" class=\"dataframe\">\n",
       "  <thead>\n",
       "    <tr style=\"text-align: right;\">\n",
       "      <th></th>\n",
       "      <th>Country Name</th>\n",
       "      <th>Number of homicides by firearm</th>\n",
       "      <th>Average total all civilian firearms</th>\n",
       "      <th>Country</th>\n",
       "      <th>Guns/100 inhabitants</th>\n",
       "      <th>Number of mass shootings</th>\n",
       "      <th>pop</th>\n",
       "      <th>gdp</th>\n",
       "    </tr>\n",
       "  </thead>\n",
       "  <tbody>\n",
       "    <tr>\n",
       "      <th>0</th>\n",
       "      <td>Australia</td>\n",
       "      <td>30.0</td>\n",
       "      <td>3050000.0</td>\n",
       "      <td>Australia</td>\n",
       "      <td>15.0</td>\n",
       "      <td>4</td>\n",
       "      <td>22728254.0</td>\n",
       "      <td>1.538194e+12</td>\n",
       "    </tr>\n",
       "    <tr>\n",
       "      <th>1</th>\n",
       "      <td>Austria</td>\n",
       "      <td>18.0</td>\n",
       "      <td>2500000.0</td>\n",
       "      <td>Austria</td>\n",
       "      <td>30.4</td>\n",
       "      <td>1</td>\n",
       "      <td>8429991.0</td>\n",
       "      <td>4.074516e+11</td>\n",
       "    </tr>\n",
       "    <tr>\n",
       "      <th>2</th>\n",
       "      <td>Canada</td>\n",
       "      <td>173.0</td>\n",
       "      <td>9950000.0</td>\n",
       "      <td>Canada</td>\n",
       "      <td>30.8</td>\n",
       "      <td>4</td>\n",
       "      <td>34750545.0</td>\n",
       "      <td>1.824289e+12</td>\n",
       "    </tr>\n",
       "    <tr>\n",
       "      <th>3</th>\n",
       "      <td>Denmark</td>\n",
       "      <td>15.0</td>\n",
       "      <td>650000.0</td>\n",
       "      <td>Denmark</td>\n",
       "      <td>12.0</td>\n",
       "      <td>0</td>\n",
       "      <td>5591572.0</td>\n",
       "      <td>3.271489e+11</td>\n",
       "    </tr>\n",
       "    <tr>\n",
       "      <th>4</th>\n",
       "      <td>Finland</td>\n",
       "      <td>24.0</td>\n",
       "      <td>2400000.0</td>\n",
       "      <td>Finland</td>\n",
       "      <td>45.3</td>\n",
       "      <td>2</td>\n",
       "      <td>5413971.0</td>\n",
       "      <td>2.567065e+11</td>\n",
       "    </tr>\n",
       "  </tbody>\n",
       "</table>\n",
       "</div>"
      ],
      "text/plain": [
       "  Country Name  Number of homicides by firearm  \\\n",
       "0    Australia                            30.0   \n",
       "1      Austria                            18.0   \n",
       "2       Canada                           173.0   \n",
       "3      Denmark                            15.0   \n",
       "4      Finland                            24.0   \n",
       "\n",
       "   Average total all civilian firearms    Country  Guns/100 inhabitants  \\\n",
       "0                            3050000.0  Australia                  15.0   \n",
       "1                            2500000.0    Austria                  30.4   \n",
       "2                            9950000.0     Canada                  30.8   \n",
       "3                             650000.0    Denmark                  12.0   \n",
       "4                            2400000.0    Finland                  45.3   \n",
       "\n",
       "   Number of mass shootings         pop           gdp  \n",
       "0                         4  22728254.0  1.538194e+12  \n",
       "1                         1   8429991.0  4.074516e+11  \n",
       "2                         4  34750545.0  1.824289e+12  \n",
       "3                         0   5591572.0  3.271489e+11  \n",
       "4                         2   5413971.0  2.567065e+11  "
      ]
     },
     "execution_count": 10,
     "metadata": {},
     "output_type": "execute_result"
    }
   ],
   "source": [
    "df_ = df_.merge(df_popgdp, right_on=\"Country Name\", left_on=\"Country Name\")\n",
    "df_.head()"
   ]
  },
  {
   "cell_type": "markdown",
   "metadata": {},
   "source": [
    "## exploration\n",
    "### plot mass shooting vs gdp in absolute numbers, and per person. Show the errorbars (y errors)\n",
    "Use Poisson statistics for the errorbars on the number of mass shootings (optional: include errors on the population, also as Poisson statistics)\n",
    "Are there any points that look like they may be outilers?"
   ]
  },
  {
   "cell_type": "code",
   "execution_count": 11,
   "metadata": {
    "collapsed": false
   },
   "outputs": [
    {
     "data": {
      "image/png": "[encoded data removed]",
      "text/plain": [
       "<matplotlib.figure.Figure at 0x7f1fc0cb3150>"
      ]
     },
     "metadata": {},
     "output_type": "display_data"
    },
    {
     "name": "stdout",
     "output_type": "stream",
     "text": [
      "Number of mass shooting vs GDP, errors represent Poisson statistics.\n",
      "The datapoint to the top right of the plot is the USA, which has both the highest GDP and the highest number of mass shootings\n"
     ]
    }
   ],
   "source": [
    "fig = pl.figure(figsize=(10,5)) \n",
    "ax = fig.add_subplot(111)\n",
    "\n",
    "scatter = ax.scatter(df_.gdp / 1e9, df_['Number of mass shootings'])\n",
    "ax.errorbar(df_.gdp / 1e9, df_['Number of mass shootings'], \n",
    "            yerr = np.sqrt(df_['Number of mass shootings'] * 1.0), fmt = '.', color='lightblue')\n",
    "ax.set_xlabel(\"GDP (in billions)\")\n",
    "ax.set_ylabel(\"Number of mass shooting, year 2012\")\n",
    "ax.set_ylim()\n",
    "pl.show()\n",
    "print (\"Number of mass shooting vs GDP, \" + \n",
    "       \"errors represent Poisson statistics.\\n\" + \n",
    "       \"The datapoint to the top right of the plot is the USA, \" + \n",
    "       \"which has both the highest GDP and the highest number of mass shootings\")"
   ]
  },
  {
   "cell_type": "markdown",
   "metadata": {},
   "source": [
    "### The above plot has a major outlier: based on the data is the US with 78 mass shooting in 2012."
   ]
  },
  {
   "cell_type": "code",
   "execution_count": 12,
   "metadata": {
    "collapsed": false
   },
   "outputs": [
    {
     "data": {
      "image/png": "[encoded data removed]",
      "text/plain": [
       "<matplotlib.figure.Figure at 0x7f1fc0cb3b10>"
      ]
     },
     "metadata": {},
     "output_type": "display_data"
    }
   ],
   "source": [
    "# plot mass shooting vs gdp per person + errorbars (y errors)\n",
    "\n",
    "df_['shootingspp'] = df_[\"Number of mass shootings\"] / df_['pop'] * 1e3\n",
    "\n",
    "fig = pl.figure(figsize=(10,5)) \n",
    "ax = fig.add_subplot(111)\n",
    "\n",
    "scatter = ax.scatter(df_.gdp / 1e9, df_['shootingspp'])\n",
    "ax.errorbar(df_.gdp / 1e9, df_['shootingspp'], \n",
    "            yerr = np.sqrt(df_['shootingspp'] * 1.0), fmt = '.', color='lightblue')\n",
    "ax.set_xlabel(\"GDP (in billions)\")\n",
    "ax.set_ylabel(\"Number of mass shooting per person\")\n",
    "ax.set_ylim()\n",
    "pl.show()"
   ]
  },
  {
   "cell_type": "markdown",
   "metadata": {},
   "source": [
    "### The above plot also has a major outlier: US \n"
   ]
  },
  {
   "cell_type": "markdown",
   "metadata": {},
   "source": [
    "## plot the average number of civilian fire arms per person\n",
    "first without errors, then with errors. are there  points that look like outliers?"
   ]
  },
  {
   "cell_type": "code",
   "execution_count": 13,
   "metadata": {
    "collapsed": false
   },
   "outputs": [
    {
     "data": {
      "text/html": [
       "<div>\n",
       "<table border=\"1\" class=\"dataframe\">\n",
       "  <thead>\n",
       "    <tr style=\"text-align: right;\">\n",
       "      <th></th>\n",
       "      <th>Country Name</th>\n",
       "      <th>Number of homicides by firearm</th>\n",
       "      <th>Average total all civilian firearms</th>\n",
       "      <th>Country</th>\n",
       "      <th>Guns/100 inhabitants</th>\n",
       "      <th>Number of mass shootings</th>\n",
       "      <th>pop</th>\n",
       "      <th>gdp</th>\n",
       "      <th>shootingspp</th>\n",
       "      <th>AverageFirearmspp</th>\n",
       "    </tr>\n",
       "  </thead>\n",
       "  <tbody>\n",
       "    <tr>\n",
       "      <th>17</th>\n",
       "      <td>Portugal</td>\n",
       "      <td>44.0</td>\n",
       "      <td>900000.0</td>\n",
       "      <td>Portugal</td>\n",
       "      <td>8.5</td>\n",
       "      <td>1</td>\n",
       "      <td>10514844.0</td>\n",
       "      <td>2.163682e+11</td>\n",
       "      <td>0.000095</td>\n",
       "      <td>0.085593</td>\n",
       "    </tr>\n",
       "    <tr>\n",
       "      <th>18</th>\n",
       "      <td>Spain</td>\n",
       "      <td>90.0</td>\n",
       "      <td>4500000.0</td>\n",
       "      <td>Spain</td>\n",
       "      <td>10.4</td>\n",
       "      <td>1</td>\n",
       "      <td>46773055.0</td>\n",
       "      <td>1.335946e+12</td>\n",
       "      <td>0.000021</td>\n",
       "      <td>0.096209</td>\n",
       "    </tr>\n",
       "    <tr>\n",
       "      <th>19</th>\n",
       "      <td>Sweden</td>\n",
       "      <td>37.0</td>\n",
       "      <td>2800000.0</td>\n",
       "      <td>Sweden</td>\n",
       "      <td>31.6</td>\n",
       "      <td>2</td>\n",
       "      <td>9519374.0</td>\n",
       "      <td>5.438806e+11</td>\n",
       "      <td>0.000210</td>\n",
       "      <td>0.294137</td>\n",
       "    </tr>\n",
       "    <tr>\n",
       "      <th>20</th>\n",
       "      <td>Switzerland</td>\n",
       "      <td>57.0</td>\n",
       "      <td>3400000.0</td>\n",
       "      <td>Switzerland</td>\n",
       "      <td>45.7</td>\n",
       "      <td>2</td>\n",
       "      <td>7996861.0</td>\n",
       "      <td>6.650541e+11</td>\n",
       "      <td>0.000250</td>\n",
       "      <td>0.425167</td>\n",
       "    </tr>\n",
       "    <tr>\n",
       "      <th>21</th>\n",
       "      <td>United States</td>\n",
       "      <td>9146.0</td>\n",
       "      <td>270000000.0</td>\n",
       "      <td>United States</td>\n",
       "      <td>88.8</td>\n",
       "      <td>78</td>\n",
       "      <td>313998379.0</td>\n",
       "      <td>1.615526e+13</td>\n",
       "      <td>0.000248</td>\n",
       "      <td>0.859877</td>\n",
       "    </tr>\n",
       "  </tbody>\n",
       "</table>\n",
       "</div>"
      ],
      "text/plain": [
       "     Country Name  Number of homicides by firearm  \\\n",
       "17       Portugal                            44.0   \n",
       "18          Spain                            90.0   \n",
       "19         Sweden                            37.0   \n",
       "20    Switzerland                            57.0   \n",
       "21  United States                          9146.0   \n",
       "\n",
       "    Average total all civilian firearms        Country  Guns/100 inhabitants  \\\n",
       "17                             900000.0       Portugal                   8.5   \n",
       "18                            4500000.0          Spain                  10.4   \n",
       "19                            2800000.0         Sweden                  31.6   \n",
       "20                            3400000.0    Switzerland                  45.7   \n",
       "21                          270000000.0  United States                  88.8   \n",
       "\n",
       "    Number of mass shootings          pop           gdp  shootingspp  \\\n",
       "17                         1   10514844.0  2.163682e+11     0.000095   \n",
       "18                         1   46773055.0  1.335946e+12     0.000021   \n",
       "19                         2    9519374.0  5.438806e+11     0.000210   \n",
       "20                         2    7996861.0  6.650541e+11     0.000250   \n",
       "21                        78  313998379.0  1.615526e+13     0.000248   \n",
       "\n",
       "    AverageFirearmspp  \n",
       "17           0.085593  \n",
       "18           0.096209  \n",
       "19           0.294137  \n",
       "20           0.425167  \n",
       "21           0.859877  "
      ]
     },
     "execution_count": 13,
     "metadata": {},
     "output_type": "execute_result"
    }
   ],
   "source": [
    "df_['AverageFirearmspp'] = df_[\"Average total all civilian firearms\"] / df_['pop']\n",
    "df_.tail()"
   ]
  },
  {
   "cell_type": "code",
   "execution_count": 14,
   "metadata": {
    "collapsed": false
   },
   "outputs": [
    {
     "data": {
      "image/png": "[encoded data removed]",
      "text/plain": [
       "<matplotlib.figure.Figure at 0x7f1fbeb9b210>"
      ]
     },
     "metadata": {},
     "output_type": "display_data"
    }
   ],
   "source": [
    "# no error bars\n",
    "\n",
    "fig = pl.figure(figsize=(10,5)) \n",
    "ax = fig.add_subplot(111)\n",
    "\n",
    "scatter = ax.scatter(df_.gdp / 1e9, df_['AverageFirearmspp'])\n",
    "ax.set_xlabel(\"GDP (in billions)\")\n",
    "ax.set_ylabel(\"Average Firearms per Person\")\n",
    "ax.set_ylim()\n",
    "pl.show()"
   ]
  },
  {
   "cell_type": "code",
   "execution_count": 15,
   "metadata": {
    "collapsed": false
   },
   "outputs": [
    {
     "data": {
      "image/png": "[encoded data removed]",
      "text/plain": [
       "<matplotlib.figure.Figure at 0x7f1fbea184d0>"
      ]
     },
     "metadata": {},
     "output_type": "display_data"
    }
   ],
   "source": [
    "# with error bars\n",
    "\n",
    "fig = pl.figure(figsize=(10,5)) \n",
    "ax = fig.add_subplot(111)\n",
    "\n",
    "scatter = ax.scatter(df_.gdp / 1e9, df_['AverageFirearmspp'])\n",
    "ax.errorbar(df_.gdp / 1e9, df_['AverageFirearmspp'], \n",
    "            yerr = np.sqrt(df_['AverageFirearmspp'] * 1.0), fmt = '.', color='lightblue')\n",
    "ax.set_xlabel(\"GDP (in billions)\")\n",
    "ax.set_ylabel(\"Average Firearms per Person\")\n",
    "ax.set_ylim()\n",
    "pl.show()"
   ]
  },
  {
   "cell_type": "markdown",
   "metadata": {},
   "source": [
    "## plot the average number of homicide by fire arms per person\n",
    "first as a histogram\n",
    "\n",
    "then against the country GDP, with statistical errors. are there  points that look like outliers?"
   ]
  },
  {
   "cell_type": "code",
   "execution_count": 16,
   "metadata": {
    "collapsed": false
   },
   "outputs": [
    {
     "data": {
      "image/png": "[encoded data removed]",
      "text/plain": [
       "<matplotlib.figure.Figure at 0x7f1fbea22090>"
      ]
     },
     "metadata": {},
     "output_type": "display_data"
    }
   ],
   "source": [
    "fig, ax = plt.subplots()\n",
    "ax.hist(df_['Number of homicides by firearm'] / df_['pop'] * 1000)\n",
    "ax.set_xlabel('homicides by firearm per 1000 people');"
   ]
  },
  {
   "cell_type": "code",
   "execution_count": 17,
   "metadata": {
    "collapsed": false
   },
   "outputs": [
    {
     "data": {
      "text/html": [
       "<div>\n",
       "<table border=\"1\" class=\"dataframe\">\n",
       "  <thead>\n",
       "    <tr style=\"text-align: right;\">\n",
       "      <th></th>\n",
       "      <th>Country Name</th>\n",
       "      <th>Number of homicides by firearm</th>\n",
       "      <th>Average total all civilian firearms</th>\n",
       "      <th>Country</th>\n",
       "      <th>Guns/100 inhabitants</th>\n",
       "      <th>Number of mass shootings</th>\n",
       "      <th>pop</th>\n",
       "      <th>gdp</th>\n",
       "      <th>shootingspp</th>\n",
       "      <th>AverageFirearmspp</th>\n",
       "      <th>homicidepp</th>\n",
       "    </tr>\n",
       "  </thead>\n",
       "  <tbody>\n",
       "    <tr>\n",
       "      <th>0</th>\n",
       "      <td>Australia</td>\n",
       "      <td>30.0</td>\n",
       "      <td>3050000.0</td>\n",
       "      <td>Australia</td>\n",
       "      <td>15.0</td>\n",
       "      <td>4</td>\n",
       "      <td>22728254.0</td>\n",
       "      <td>1.538194e+12</td>\n",
       "      <td>0.000176</td>\n",
       "      <td>0.134194</td>\n",
       "      <td>0.001320</td>\n",
       "    </tr>\n",
       "    <tr>\n",
       "      <th>1</th>\n",
       "      <td>Austria</td>\n",
       "      <td>18.0</td>\n",
       "      <td>2500000.0</td>\n",
       "      <td>Austria</td>\n",
       "      <td>30.4</td>\n",
       "      <td>1</td>\n",
       "      <td>8429991.0</td>\n",
       "      <td>4.074516e+11</td>\n",
       "      <td>0.000119</td>\n",
       "      <td>0.296560</td>\n",
       "      <td>0.002135</td>\n",
       "    </tr>\n",
       "    <tr>\n",
       "      <th>2</th>\n",
       "      <td>Canada</td>\n",
       "      <td>173.0</td>\n",
       "      <td>9950000.0</td>\n",
       "      <td>Canada</td>\n",
       "      <td>30.8</td>\n",
       "      <td>4</td>\n",
       "      <td>34750545.0</td>\n",
       "      <td>1.824289e+12</td>\n",
       "      <td>0.000115</td>\n",
       "      <td>0.286326</td>\n",
       "      <td>0.004978</td>\n",
       "    </tr>\n",
       "    <tr>\n",
       "      <th>3</th>\n",
       "      <td>Denmark</td>\n",
       "      <td>15.0</td>\n",
       "      <td>650000.0</td>\n",
       "      <td>Denmark</td>\n",
       "      <td>12.0</td>\n",
       "      <td>0</td>\n",
       "      <td>5591572.0</td>\n",
       "      <td>3.271489e+11</td>\n",
       "      <td>0.000000</td>\n",
       "      <td>0.116246</td>\n",
       "      <td>0.002683</td>\n",
       "    </tr>\n",
       "    <tr>\n",
       "      <th>4</th>\n",
       "      <td>Finland</td>\n",
       "      <td>24.0</td>\n",
       "      <td>2400000.0</td>\n",
       "      <td>Finland</td>\n",
       "      <td>45.3</td>\n",
       "      <td>2</td>\n",
       "      <td>5413971.0</td>\n",
       "      <td>2.567065e+11</td>\n",
       "      <td>0.000369</td>\n",
       "      <td>0.443298</td>\n",
       "      <td>0.004433</td>\n",
       "    </tr>\n",
       "  </tbody>\n",
       "</table>\n",
       "</div>"
      ],
      "text/plain": [
       "  Country Name  Number of homicides by firearm  \\\n",
       "0    Australia                            30.0   \n",
       "1      Austria                            18.0   \n",
       "2       Canada                           173.0   \n",
       "3      Denmark                            15.0   \n",
       "4      Finland                            24.0   \n",
       "\n",
       "   Average total all civilian firearms    Country  Guns/100 inhabitants  \\\n",
       "0                            3050000.0  Australia                  15.0   \n",
       "1                            2500000.0    Austria                  30.4   \n",
       "2                            9950000.0     Canada                  30.8   \n",
       "3                             650000.0    Denmark                  12.0   \n",
       "4                            2400000.0    Finland                  45.3   \n",
       "\n",
       "   Number of mass shootings         pop           gdp  shootingspp  \\\n",
       "0                         4  22728254.0  1.538194e+12     0.000176   \n",
       "1                         1   8429991.0  4.074516e+11     0.000119   \n",
       "2                         4  34750545.0  1.824289e+12     0.000115   \n",
       "3                         0   5591572.0  3.271489e+11     0.000000   \n",
       "4                         2   5413971.0  2.567065e+11     0.000369   \n",
       "\n",
       "   AverageFirearmspp  homicidepp  \n",
       "0           0.134194    0.001320  \n",
       "1           0.296560    0.002135  \n",
       "2           0.286326    0.004978  \n",
       "3           0.116246    0.002683  \n",
       "4           0.443298    0.004433  "
      ]
     },
     "execution_count": 17,
     "metadata": {},
     "output_type": "execute_result"
    }
   ],
   "source": [
    "# then against the country GDP, with statistical errors. \n",
    "# are there points that look like outliers?\n",
    "\n",
    "df_['homicidepp'] = df_['Number of homicides by firearm'] / df_['pop'] * 1000\n",
    "df_.head()"
   ]
  },
  {
   "cell_type": "code",
   "execution_count": 18,
   "metadata": {
    "collapsed": false
   },
   "outputs": [
    {
     "data": {
      "image/png": "[encoded data removed]",
      "text/plain": [
       "<matplotlib.figure.Figure at 0x7f1fbe85b9d0>"
      ]
     },
     "metadata": {},
     "output_type": "display_data"
    }
   ],
   "source": [
    "fig = pl.figure(figsize=(10,5)) \n",
    "ax = fig.add_subplot(111)\n",
    "\n",
    "scatter = ax.scatter(df_.gdp / 1e9, df_['homicidepp'])\n",
    "ax.errorbar(df_.gdp / 1e9, df_['homicidepp'], \n",
    "            yerr = np.sqrt(df_['homicidepp'] * 1.0), fmt = '.', color='lightblue')\n",
    "ax.set_xlabel(\"GDP (in billions)\")\n",
    "ax.set_ylabel(\"homicide by fire arms per 1000 people\")\n",
    "ax.set_ylim()\n",
    "pl.show()"
   ]
  },
  {
   "cell_type": "markdown",
   "metadata": {},
   "source": [
    "### The above plot also has a major outlier: US"
   ]
  },
  {
   "cell_type": "markdown",
   "metadata": {},
   "source": [
    "## plot the number of  homicides by fire arm against the number of civilian firearms. plot the  US in a different color\n",
    "with and without errorbars"
   ]
  },
  {
   "cell_type": "code",
   "execution_count": 19,
   "metadata": {
    "collapsed": false
   },
   "outputs": [
    {
     "data": {
      "image/png": "[encoded data removed]",
      "text/plain": [
       "<matplotlib.figure.Figure at 0x7f1fbe75d390>"
      ]
     },
     "metadata": {},
     "output_type": "display_data"
    }
   ],
   "source": [
    "# no error bars\n",
    "\n",
    "fig = pl.figure(figsize=(10,5)) \n",
    "ax = fig.add_subplot(111)\n",
    "\n",
    "scatter = ax.scatter(df_['Average total all civilian firearms'],\n",
    "                     df_['Number of homicides by firearm'],\n",
    "                    color = (df_['Country Name'] == 'United States').map({0:'b', 1:'r'}))\n",
    "ax.set_xlabel(\"Average total all civilian firearms\")\n",
    "ax.set_ylabel(\"Homicide by fire arms\")\n",
    "ax.set_ylim()\n",
    "pl.show()"
   ]
  },
  {
   "cell_type": "code",
   "execution_count": 20,
   "metadata": {
    "collapsed": false
   },
   "outputs": [
    {
     "data": {
      "image/png": "[encoded data removed]",
      "text/plain": [
       "<matplotlib.figure.Figure at 0x7f1fbe67fed0>"
      ]
     },
     "metadata": {},
     "output_type": "display_data"
    }
   ],
   "source": [
    "# with error bars\n",
    "\n",
    "fig = pl.figure(figsize=(10,5)) \n",
    "ax = fig.add_subplot(111)\n",
    "\n",
    "scatter = ax.scatter(df_['Average total all civilian firearms'],\n",
    "                     df_['Number of homicides by firearm'],\n",
    "                    color = (df_['Country Name'] == 'United States').map({0:'b', 1:'r'})\n",
    ")\n",
    "ax.errorbar(df_['Average total all civilian firearms'], df_['Number of homicides by firearm'], \n",
    "            yerr = np.sqrt(df_['Number of homicides by firearm']*1000), fmt = '.', color='grey')\n",
    "    \n",
    "ax.set_xlabel(\"Average total all civilian firearms\")\n",
    "ax.set_ylabel(\"Homicide by fire arms\")\n",
    "ax.set_ylim()\n",
    "pl.show()"
   ]
  },
  {
   "cell_type": "markdown",
   "metadata": {},
   "source": [
    "## plot the number of  mass shootings against the number of civilian firearms. plot the  US in a different color\n",
    "with and without errorbars\n"
   ]
  },
  {
   "cell_type": "code",
   "execution_count": 21,
   "metadata": {
    "collapsed": false
   },
   "outputs": [
    {
     "data": {
      "image/png": "[encoded data removed]",
      "text/plain": [
       "<matplotlib.figure.Figure at 0x7f1fbe6760d0>"
      ]
     },
     "metadata": {},
     "output_type": "display_data"
    }
   ],
   "source": [
    "# no errors\n",
    "\n",
    "fig = pl.figure(figsize=(10,5)) \n",
    "ax = fig.add_subplot(111)\n",
    "\n",
    "scatter = ax.scatter(df_['Number of mass shootings'],\n",
    "                     df_['Average total all civilian firearms'],\n",
    "                    color = (df_['Country Name'] == 'United States').map({0:'b', 1:'r'})\n",
    ")\n",
    "ax.set_xlabel(\"Number of mass shootings\")\n",
    "ax.set_ylabel(\"Average total all civilian firearms\")\n",
    "ax.set_ylim()\n",
    "pl.show()"
   ]
  },
  {
   "cell_type": "code",
   "execution_count": 22,
   "metadata": {
    "collapsed": false
   },
   "outputs": [
    {
     "data": {
      "image/png": "[encoded data removed]",
      "text/plain": [
       "<matplotlib.figure.Figure at 0x7f1fbe5e4850>"
      ]
     },
     "metadata": {},
     "output_type": "display_data"
    }
   ],
   "source": [
    "# with errors\n",
    "\n",
    "fig = pl.figure(figsize=(10,5)) \n",
    "ax = fig.add_subplot(111)\n",
    "\n",
    "scatter = ax.scatter(df_['Number of mass shootings'],\n",
    "                     df_['Average total all civilian firearms'],\n",
    "                    color = (df_['Country Name'] == 'United States').map({0:'b', 1:'r'})\n",
    ")\n",
    "ax.errorbar(df_['Number of mass shootings'], df_['Average total all civilian firearms'], \n",
    "            yerr = np.sqrt(df_['Average total all civilian firearms']*1e9), fmt = '.', color='grey')\n",
    "    \n",
    "ax.set_xlabel(\"Number of mass shootings\")\n",
    "ax.set_ylabel(\"Average total all civilian firearms\")\n",
    "ax.set_ylim()\n",
    "pl.show()"
   ]
  },
  {
   "cell_type": "markdown",
   "metadata": {},
   "source": [
    "# Modeling\n",
    "\n",
    "## fit a line to the Number of mass shootings  per person as a function of Average total all civilian firearms per person. \n",
    "Before you do it it is a good idea to make sure that both quantities are roughly of the same order of magnitude (unity). (You can simply divide by the order of magnitude of the mean of the sample to obtain this). Use\n",
    "\n",
    "    - statsmodels OLS\n",
    "    - statsmodels WLS\n",
    "    - seaborn\n",
    "    - choose one of\n",
    "        -- creating a function that calculates the residuals and minimizing that function\n",
    "        -- analytical solution http://mathworld.wolfram.com/LeastSquaresFitting.html\n",
    "        -- numpy.polyfit() - https://docs.scipy.org/doc/numpy-1.13.0/reference/generated/numpy.polyfit.html\n",
    "    \n",
    "\n",
    "WLS: that is the weighted square fit. The statsmodel package WLS function allows you to take the uncertainties of each data point into account when you fit your model. It takes the parameter weights, which is the inverse of your errors:\n",
    "weights = 1.0/df.yerror\n",
    "Notice that \n",
    "    a - sqrt(0) = 0\n",
    "    b - 1/0 = infinity\n",
    "    c - you cannot have weight that are infinity in your fit. Please come up with a solution and justify it.\n",
    "\n",
    "\n",
    "the latter three you can learn about in this example: https://github.com/fedhere/PUI2017_fb55/blob/master/Lab5_fb55/genderIncomeBias.ipynb\n",
    "Since we did not discuss these, I will add some notes to the repo in the afternoon.\n",
    "\n",
    "Use the seaborn python package built in regression function  to plot the regression confidence intervals. \n",
    "\n",
    "import seaborn  as sns\n",
    "sns.regplot(x=\"x\", y=\"y\", data=df);\n",
    "\n",
    "\n"
   ]
  },
  {
   "cell_type": "code",
   "execution_count": 23,
   "metadata": {
    "collapsed": false
   },
   "outputs": [
    {
     "name": "stderr",
     "output_type": "stream",
     "text": [
      "/opt/rh/anaconda/root/envs/PUI2016_Python2/lib/python2.7/site-packages/IPython/html.py:14: ShimWarning: The `IPython.html` package has been deprecated. You should import from `notebook` instead. `IPython.html.widgets` has moved to `ipywidgets`.\n",
      "  \"`IPython.html.widgets` has moved to `ipywidgets`.\", ShimWarning)\n"
     ]
    }
   ],
   "source": [
    "import seaborn as sns \n",
    "import statsmodels.api as sm\n",
    "import statsmodels.formula.api as smf"
   ]
  },
  {
   "cell_type": "code",
   "execution_count": 24,
   "metadata": {
    "collapsed": false
   },
   "outputs": [
    {
     "data": {
      "image/png": "[encoded data removed]",
      "text/plain": [
       "<matplotlib.figure.Figure at 0x7f1fbb1fb910>"
      ]
     },
     "metadata": {},
     "output_type": "display_data"
    }
   ],
   "source": [
    "# first I plot as a simple scatter plot\n",
    "# (just for myself)\n",
    "# no errors\n",
    "\n",
    "fig = pl.figure(figsize=(10,5)) \n",
    "ax = fig.add_subplot(111)\n",
    "\n",
    "scatter = ax.scatter(df_['AverageFirearmspp'],\n",
    "                     df_['shootingspp']*1000,\n",
    ")\n",
    "\n",
    "ax.set_xlabel(\"Average total all civilian firearms per person\")\n",
    "ax.set_ylabel(\"Number of mass shootings per person\")\n",
    "ax.set_ylim()\n",
    "pl.show()"
   ]
  },
  {
   "cell_type": "code",
   "execution_count": 25,
   "metadata": {
    "collapsed": false
   },
   "outputs": [],
   "source": [
    "# from GitHub: fedhere/UInotebooks/OLS/line_fit_and_residuals.ipynb\n",
    "\n",
    "##this function will fit a line woth statsmodels packages, \n",
    "##both with and without including the noise int he fir parameter (WLS and OLS respectively)\n",
    "##also i can use the statsmodels.formula package passing it a formula, which i will need\n",
    "##when i want to fit a curve, not a straight line, to the data\n",
    "def myregression(x, y, method=None): \n",
    "    if method == None or method == 'O':\n",
    "        rm = sm.OLS(y, x)\n",
    "    elif method == 'W':\n",
    "        rm = sm.WLS(y, x)\n",
    "    else:\n",
    "        print(\"Problem in the way you called myregression\")\n",
    "        return -1\n",
    "            \n",
    "    reg = rm.fit()\n",
    "    print(\"linear regression slope {}\".format(reg.summary()))\n",
    "    return reg\n",
    "\n",
    "def line(a, b, x):\n",
    "    return a*x + b"
   ]
  },
  {
   "cell_type": "code",
   "execution_count": 26,
   "metadata": {
    "collapsed": false
   },
   "outputs": [
    {
     "name": "stdout",
     "output_type": "stream",
     "text": [
      "linear regression slope                             OLS Regression Results                            \n",
      "==============================================================================\n",
      "Dep. Variable:            shootingspp   R-squared:                       0.479\n",
      "Model:                            OLS   Adj. R-squared:                  0.454\n",
      "Method:                 Least Squares   F-statistic:                     19.31\n",
      "Date:                Tue, 17 Oct 2017   Prob (F-statistic):           0.000253\n",
      "Time:                        22:08:07   Log-Likelihood:                -39.436\n",
      "No. Observations:                  22   AIC:                             80.87\n",
      "Df Residuals:                      21   BIC:                             81.96\n",
      "Df Model:                           1                                         \n",
      "Covariance Type:            nonrobust                                         \n",
      "=====================================================================================\n",
      "                        coef    std err          t      P>|t|      [95.0% Conf. Int.]\n",
      "-------------------------------------------------------------------------------------\n",
      "AverageFirearmspp     4.7479      1.081      4.394      0.000         2.501     6.995\n",
      "==============================================================================\n",
      "Omnibus:                       33.992   Durbin-Watson:                   1.916\n",
      "Prob(Omnibus):                  0.000   Jarque-Bera (JB):               85.045\n",
      "Skew:                           2.646   Prob(JB):                     3.41e-19\n",
      "Kurtosis:                      11.048   Cond. No.                         1.00\n",
      "==============================================================================\n",
      "\n",
      "Warnings:\n",
      "[1] Standard Errors assume that the covariance matrix of the errors is correctly specified.\n",
      "linear regression slope                             WLS Regression Results                            \n",
      "==============================================================================\n",
      "Dep. Variable:            shootingspp   R-squared:                       0.479\n",
      "Model:                            WLS   Adj. R-squared:                  0.454\n",
      "Method:                 Least Squares   F-statistic:                     19.31\n",
      "Date:                Tue, 17 Oct 2017   Prob (F-statistic):           0.000253\n",
      "Time:                        22:08:07   Log-Likelihood:                -39.436\n",
      "No. Observations:                  22   AIC:                             80.87\n",
      "Df Residuals:                      21   BIC:                             81.96\n",
      "Df Model:                           1                                         \n",
      "Covariance Type:            nonrobust                                         \n",
      "=====================================================================================\n",
      "                        coef    std err          t      P>|t|      [95.0% Conf. Int.]\n",
      "-------------------------------------------------------------------------------------\n",
      "AverageFirearmspp     4.7479      1.081      4.394      0.000         2.501     6.995\n",
      "==============================================================================\n",
      "Omnibus:                       33.992   Durbin-Watson:                   1.916\n",
      "Prob(Omnibus):                  0.000   Jarque-Bera (JB):               85.045\n",
      "Skew:                           2.646   Prob(JB):                     3.41e-19\n",
      "Kurtosis:                      11.048   Cond. No.                         1.00\n",
      "==============================================================================\n",
      "\n",
      "Warnings:\n",
      "[1] Standard Errors assume that the covariance matrix of the errors is correctly specified.\n"
     ]
    },
    {
     "data": {
      "text/plain": [
       "<matplotlib.legend.Legend at 0x7f1fbb113090>"
      ]
     },
     "execution_count": 26,
     "metadata": {},
     "output_type": "execute_result"
    },
    {
     "data": {
      "image/png": "[encoded data removed]",
      "text/plain": [
       "<matplotlib.figure.Figure at 0x7f1fbcb0dd90>"
      ]
     },
     "metadata": {},
     "output_type": "display_data"
    }
   ],
   "source": [
    "# from GitHub: fedhere/UInotebooks/OLS/line_fit_and_residuals.ipynb. I changed variables.\n",
    "\n",
    "x = df_['AverageFirearmspp']\n",
    "y = line(10, 0, df_['shootingspp']*1000)\n",
    "\n",
    "rnew = myregression(x, y)\n",
    "rwnew = myregression(x, y, method='W')\n",
    "\n",
    "fig = pl.figure(figsize=(10,10))\n",
    "\n",
    "ax = fig.add_subplot(221)\n",
    "ax.scatter(x, y, label = \"y\", s = 15)\n",
    "ax.set_xlabel('Fire arms per person')\n",
    "ax.set_ylabel('Mass shooting per person')\n",
    "ax.legend()\n",
    "\n",
    "ax2 = fig.add_subplot(222)\n",
    "ax2.scatter(x, y, label = \"y\", s = 15)\n",
    "ax2.set_xlabel('Fire arms per person')\n",
    "ax2.set_ylabel('Mass shooting per person')\n",
    "ax2.plot(x, rnew.predict(x), label = 'OLS fit', color = 'r', alpha=0.5)\n",
    "ax2.legend()\n",
    "\n",
    "ax3 = fig.add_subplot(223)\n",
    "ax3.scatter(x, y, label=None, s = 15)\n",
    "ax3.set_xlabel('Fire arms per person')\n",
    "ax3.set_ylabel('Mass shooting per person')\n",
    "ax3.plot(x, rnew.predict(x), label = 'OLS fit', color = 'r', alpha=0.5)\n",
    "ax3.plot(x, rwnew.predict(x), label = 'WLS fit', color = 'black', alpha=0.5)\n",
    "ax3.errorbar(df_['AverageFirearmspp'], y, \n",
    "            yerr = np.sqrt(y), fmt = '.', label = 'y')\n",
    "ax3.legend()"
   ]
  },
  {
   "cell_type": "markdown",
   "metadata": {},
   "source": [
    "## Extra credit: confidence intervals\n"
   ]
  },
  {
   "cell_type": "code",
   "execution_count": 27,
   "metadata": {
    "collapsed": false
   },
   "outputs": [
    {
     "data": {
      "image/png": "[encoded data removed]",
      "text/plain": [
       "<matplotlib.figure.Figure at 0x7f1fbea645d0>"
      ]
     },
     "metadata": {},
     "output_type": "display_data"
    }
   ],
   "source": [
    "# just plotted the confidence interval\n",
    "\n",
    "fig = pl.figure(figsize=(10,5))\n",
    "\n",
    "sns.regplot(x=\"AverageFirearmspp\", y=\"shootingspp\", data=df_);\n",
    "#pl.title('')\n",
    "pl.ylabel(\"Number of mass shootings per person\")\n",
    "pl.xlabel(\"Average total all civilian firearms per person\");"
   ]
  },
  {
   "cell_type": "markdown",
   "metadata": {},
   "source": [
    "## Influence plot"
   ]
  },
  {
   "cell_type": "code",
   "execution_count": 30,
   "metadata": {
    "collapsed": false
   },
   "outputs": [
    {
     "name": "stdout",
     "output_type": "stream",
     "text": [
      "linear regression slope                             OLS Regression Results                            \n",
      "==============================================================================\n",
      "Dep. Variable:            shootingspp   R-squared:                       0.479\n",
      "Model:                            OLS   Adj. R-squared:                  0.454\n",
      "Method:                 Least Squares   F-statistic:                     19.31\n",
      "Date:                Tue, 17 Oct 2017   Prob (F-statistic):           0.000253\n",
      "Time:                        22:08:40   Log-Likelihood:                -39.436\n",
      "No. Observations:                  22   AIC:                             80.87\n",
      "Df Residuals:                      21   BIC:                             81.96\n",
      "Df Model:                           1                                         \n",
      "Covariance Type:            nonrobust                                         \n",
      "=====================================================================================\n",
      "                        coef    std err          t      P>|t|      [95.0% Conf. Int.]\n",
      "-------------------------------------------------------------------------------------\n",
      "AverageFirearmspp     4.7479      1.081      4.394      0.000         2.501     6.995\n",
      "==============================================================================\n",
      "Omnibus:                       33.992   Durbin-Watson:                   1.916\n",
      "Prob(Omnibus):                  0.000   Jarque-Bera (JB):               85.045\n",
      "Skew:                           2.646   Prob(JB):                     3.41e-19\n",
      "Kurtosis:                      11.048   Cond. No.                         1.00\n",
      "==============================================================================\n",
      "\n",
      "Warnings:\n",
      "[1] Standard Errors assume that the covariance matrix of the errors is correctly specified.\n"
     ]
    },
    {
     "data": {
      "image/png": "[encoded data removed]",
      "text/plain": [
       "<matplotlib.figure.Figure at 0x7f1fbacd9490>"
      ]
     },
     "metadata": {},
     "output_type": "display_data"
    }
   ],
   "source": [
    "sm.graphics.influence_plot(myregression(x, y), alpha  = 0.05, criterion=\"cooks\");"
   ]
  }
 ],
 "metadata": {
  "kernelspec": {
   "display_name": "PUI2016_Python2",
   "language": "python",
   "name": "pui2016_python2"
  },
  "language_info": {
   "codemirror_mode": {
    "name": "ipython",
    "version": 2
   },
   "file_extension": ".py",
   "mimetype": "text/x-python",
   "name": "python",
   "nbconvert_exporter": "python",
   "pygments_lexer": "ipython2",
   "version": "2.7.12"
  }
 },
 "nbformat": 4,
 "nbformat_minor": 0
}
