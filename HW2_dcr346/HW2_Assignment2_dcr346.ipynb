{
 "cells": [
  {
   "cell_type": "code",
   "execution_count": 186,
   "metadata": {
    "collapsed": false
   },
   "outputs": [
    {
     "name": "stdout",
     "output_type": "stream",
     "text": [
      "http://bustime.mta.info/api/siri/vehicle-monitoring.json?key=b23c6b1d-ac8c-43d5-a119-13d88409d414&VehicleMonitoringDetailLevel=calls&LineRef=B52\n"
     ]
    }
   ],
   "source": [
    "import sys\n",
    "import numpy as np\n",
    "import pandas as pd\n",
    "import os \n",
    "import pylab as pl\n",
    "import json\n",
    "try:\n",
    "    import urllib2 as urllib\n",
    "except ImportError:\n",
    "    import urllib.request as urllib\n",
    "\n",
    "#url = \"http://api.openweathermap.org/data/2.5/weather?q=NewYork&mode=Json&units=metric&&cnt=7&APPID=3b88ff8525c54b98e391c45ba71ecefb\"\n",
    "url = \"http://bustime.mta.info/api/siri/vehicle-monitoring.json?\" + \\\n",
    "\"key=b23c6b1d-ac8c-43d5-a119-13d88409d414&VehicleMonitoringDetailLevel=calls&LineRef=B52\"\n",
    "    \n",
    "print (url)\n",
    "response = urllib.urlopen(url)\n",
    "data = response.read().decode(\"utf-8\")\n",
    "data = json.loads(data)"
   ]
  },
  {
   "cell_type": "code",
   "execution_count": 187,
   "metadata": {
    "collapsed": false
   },
   "outputs": [],
   "source": [
    "allbuses = data['Siri']['ServiceDelivery']['VehicleMonitoringDelivery'][0]['VehicleActivity']"
   ]
  },
  {
   "cell_type": "code",
   "execution_count": 188,
   "metadata": {
    "collapsed": false
   },
   "outputs": [
    {
     "data": {
      "text/plain": [
       "[u'OriginRef',\n",
       " u'Bearing',\n",
       " u'VehicleLocation',\n",
       " u'SituationRef',\n",
       " u'OperatorRef',\n",
       " u'VehicleRef',\n",
       " u'MonitoredCall',\n",
       " u'DestinationName',\n",
       " u'DestinationRef',\n",
       " u'JourneyPatternRef',\n",
       " u'LineRef',\n",
       " u'FramedVehicleJourneyRef',\n",
       " u'PublishedLineName',\n",
       " u'Monitored',\n",
       " u'OnwardCalls',\n",
       " u'DirectionRef',\n",
       " u'ProgressRate']"
      ]
     },
     "execution_count": 188,
     "metadata": {},
     "output_type": "execute_result"
    }
   ],
   "source": [
    "allbuses[0]['MonitoredVehicleJourney'].keys()"
   ]
  },
  {
   "cell_type": "code",
   "execution_count": 189,
   "metadata": {
    "collapsed": false
   },
   "outputs": [],
   "source": [
    "from __future__ import print_function\n",
    "\n",
    "fout = open(\"BUS_LINE.csv\", \"w\")\n",
    "\n",
    "fout.write(\"Latitude,Longitude,Stop Name,Stop Status\\n\")\n",
    "\n",
    "for bus in range(len(allbuses)):\n",
    "    Latitude = allbuses[bus]['MonitoredVehicleJourney']['VehicleLocation'].values()[0]\n",
    "    Longitude = allbuses[bus]['MonitoredVehicleJourney']['VehicleLocation'].values()[1]\n",
    "    if len(Stop_Name) == 0:\n",
    "        Stop_Name = \"N/A\"\n",
    "        continue\n",
    "    elif len(Stop_Status) == 0:\n",
    "        Stop_Status = \"N/A\"\n",
    "        continue\n",
    "    else:\n",
    "        Stop_Name = allbuses[bus]['MonitoredVehicleJourney']['OnwardCalls']['OnwardCall'][0]['StopPointName']\n",
    "        Stop_Status = allbuses[bus]['MonitoredVehicleJourney']['OnwardCalls']['OnwardCall'][0]['Extensions']['Distances']['PresentableDistance']\n",
    "\n",
    "    fout.write('{},{},{},{}\\n'.format(Latitude, Longitude, Stop_Name, Stop_Status))"
   ]
  }
 ],
 "metadata": {
  "kernelspec": {
   "display_name": "Python 2",
   "language": "python",
   "name": "python2"
  },
  "language_info": {
   "codemirror_mode": {
    "name": "ipython",
    "version": 2
   },
   "file_extension": ".py",
   "mimetype": "text/x-python",
   "name": "python",
   "nbconvert_exporter": "python",
   "pygments_lexer": "ipython2",
   "version": "2.7.11"
  }
 },
 "nbformat": 4,
 "nbformat_minor": 0
}
