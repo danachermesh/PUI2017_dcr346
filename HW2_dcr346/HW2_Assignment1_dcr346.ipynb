{
 "cells": [
  {
   "cell_type": "code",
   "execution_count": 38,
   "metadata": {
    "collapsed": false
   },
   "outputs": [
    {
     "name": "stdout",
     "output_type": "stream",
     "text": [
      "http://bustime.mta.info/api/siri/vehicle-monitoring.json?key=b23c6b1d-ac8c-43d5-a119-13d88409d414&VehicleMonitoringDetailLevel=calls&LineRef=B52\n"
     ]
    }
   ],
   "source": [
    "import pylab as pl\n",
    "import os\n",
    "import json\n",
    "try:\n",
    "    import urllib2 as urllib\n",
    "except ImportError:\n",
    "    import urllib.request as urllib\n",
    "\n",
    "#url = \"http://api.openweathermap.org/data/2.5/weather?q=NewYork&mode=Json&units=metric&&cnt=7&APPID=3b88ff8525c54b98e391c45ba71ecefb\"\n",
    "url = \"http://bustime.mta.info/api/siri/vehicle-monitoring.json?\" + \\\n",
    "\"key=b23c6b1d-ac8c-43d5-a119-13d88409d414&VehicleMonitoringDetailLevel=calls&LineRef=B52\"\n",
    "    \n",
    "print (url)\n",
    "response = urllib.urlopen(url)\n",
    "data = response.read().decode(\"utf-8\")\n",
    "data = json.loads(data)"
   ]
  },
  {
   "cell_type": "code",
   "execution_count": 39,
   "metadata": {
    "collapsed": false
   },
   "outputs": [
    {
     "data": {
      "text/plain": [
       "dict"
      ]
     },
     "execution_count": 39,
     "metadata": {},
     "output_type": "execute_result"
    }
   ],
   "source": [
    "(type(data))"
   ]
  },
  {
   "cell_type": "code",
   "execution_count": 40,
   "metadata": {
    "collapsed": false
   },
   "outputs": [],
   "source": [
    "allbuses = data['Siri']['ServiceDelivery']['VehicleMonitoringDelivery'][0]['VehicleActivity']"
   ]
  },
  {
   "cell_type": "code",
   "execution_count": 41,
   "metadata": {
    "collapsed": false
   },
   "outputs": [
    {
     "data": {
      "text/plain": [
       "[u'OriginRef',\n",
       " u'Bearing',\n",
       " u'VehicleLocation',\n",
       " u'SituationRef',\n",
       " u'OperatorRef',\n",
       " u'VehicleRef',\n",
       " u'BlockRef',\n",
       " u'DestinationName',\n",
       " u'DestinationRef',\n",
       " u'JourneyPatternRef',\n",
       " u'MonitoredCall',\n",
       " u'LineRef',\n",
       " u'FramedVehicleJourneyRef',\n",
       " u'PublishedLineName',\n",
       " u'Monitored',\n",
       " u'OnwardCalls',\n",
       " u'DirectionRef',\n",
       " u'ProgressRate']"
      ]
     },
     "execution_count": 41,
     "metadata": {},
     "output_type": "execute_result"
    }
   ],
   "source": [
    "allbuses[0]['MonitoredVehicleJourney'].keys()"
   ]
  },
  {
   "cell_type": "code",
   "execution_count": 42,
   "metadata": {
    "collapsed": false
   },
   "outputs": [],
   "source": [
    "buses = []\n",
    "for bus in range(len(allbuses)):\n",
    "    name = allbuses[bus]['MonitoredVehicleJourney']['PublishedLineName']\n",
    "    location = allbuses[bus]['MonitoredVehicleJourney']['VehicleLocation']\n",
    "    buses.append((name, location))"
   ]
  },
  {
   "cell_type": "code",
   "execution_count": 43,
   "metadata": {
    "collapsed": false
   },
   "outputs": [
    {
     "data": {
      "text/plain": [
       "[(u'B52', {u'Latitude': 40.692483, u'Longitude': -73.990575}),\n",
       " (u'B52', {u'Latitude': 40.685745, u'Longitude': -73.954684}),\n",
       " (u'B52', {u'Latitude': 40.689555, u'Longitude': -73.982595}),\n",
       " (u'B52', {u'Latitude': 40.692878, u'Longitude': -73.989105}),\n",
       " (u'B52', {u'Latitude': 40.699312, u'Longitude': -73.911252}),\n",
       " (u'B52', {u'Latitude': 40.68731, u'Longitude': -73.941065}),\n",
       " (u'B52', {u'Latitude': 40.685906, u'Longitude': -73.973432}),\n",
       " (u'B52', {u'Latitude': 40.686179, u'Longitude': -73.974113}),\n",
       " (u'B52', {u'Latitude': 40.692779, u'Longitude': -73.918839}),\n",
       " (u'B52', {u'Latitude': 40.693922, u'Longitude': -73.990411}),\n",
       " (u'B52', {u'Latitude': 40.686781, u'Longitude': -73.975588}),\n",
       " (u'B52', {u'Latitude': 40.688714, u'Longitude': -73.928875}),\n",
       " (u'B52', {u'Latitude': 40.687503, u'Longitude': -73.939403}),\n",
       " (u'B52', {u'Latitude': 40.687949, u'Longitude': -73.935517})]"
      ]
     },
     "execution_count": 43,
     "metadata": {},
     "output_type": "execute_result"
    }
   ],
   "source": [
    "buses"
   ]
  },
  {
   "cell_type": "code",
   "execution_count": 44,
   "metadata": {
    "collapsed": false
   },
   "outputs": [
    {
     "data": {
      "text/plain": [
       "(40.685745, -73.954684)"
      ]
     },
     "execution_count": 44,
     "metadata": {},
     "output_type": "execute_result"
    }
   ],
   "source": [
    "buses[1][1].values()[0], buses[1][1].values()[1]"
   ]
  },
  {
   "cell_type": "code",
   "execution_count": 45,
   "metadata": {
    "collapsed": false
   },
   "outputs": [
    {
     "name": "stdout",
     "output_type": "stream",
     "text": [
      "Bus line: B52\n",
      "Bus 0 is at latitude 40.692483 and longitude -73.990575\n",
      "Bus 1 is at latitude 40.685745 and longitude -73.954684\n",
      "Bus 2 is at latitude 40.689555 and longitude -73.982595\n",
      "Bus 3 is at latitude 40.692878 and longitude -73.989105\n",
      "Bus 4 is at latitude 40.699312 and longitude -73.911252\n",
      "Bus 5 is at latitude 40.68731 and longitude -73.941065\n",
      "Bus 6 is at latitude 40.685906 and longitude -73.973432\n",
      "Bus 7 is at latitude 40.686179 and longitude -73.974113\n",
      "Bus 8 is at latitude 40.692779 and longitude -73.918839\n",
      "Bus 9 is at latitude 40.693922 and longitude -73.990411\n",
      "Bus 10 is at latitude 40.686781 and longitude -73.975588\n",
      "Bus 11 is at latitude 40.688714 and longitude -73.928875\n",
      "Bus 12 is at latitude 40.687503 and longitude -73.939403\n",
      "Bus 13 is at latitude 40.687949 and longitude -73.935517\n"
     ]
    }
   ],
   "source": [
    "print('Bus line: {}'.format(name))\n",
    "for i in range(len(buses)):\n",
    "    print ('Bus {} is at latitude {} and longitude {}'.format(i, buses[i][1].values()[0], buses[i][1].values()[1]))"
   ]
  }
 ],
 "metadata": {
  "kernelspec": {
   "display_name": "Python 2",
   "language": "python",
   "name": "python2"
  },
  "language_info": {
   "codemirror_mode": {
    "name": "ipython",
    "version": 2
   },
   "file_extension": ".py",
   "mimetype": "text/x-python",
   "name": "python",
   "nbconvert_exporter": "python",
   "pygments_lexer": "ipython2",
   "version": "2.7.11"
  }
 },
 "nbformat": 4,
 "nbformat_minor": 0
}
