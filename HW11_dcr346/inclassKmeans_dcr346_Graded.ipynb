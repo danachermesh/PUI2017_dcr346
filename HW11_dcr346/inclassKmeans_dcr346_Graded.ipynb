{
 "cells": [
  {
   "cell_type": "code",
   "execution_count": 1,
   "metadata": {
    "ExecuteTime": {
     "end_time": "2017-12-07T09:28:24.518389",
     "start_time": "2017-12-07T09:28:23.289616"
    },
    "run_control": {
     "frozen": false,
     "read_only": false
    }
   },
   "outputs": [
    {
     "name": "stdout",
     "output_type": "stream",
     "text": [
      "Populating the interactive namespace from numpy and matplotlib\n"
     ]
    }
   ],
   "source": [
    "import numpy as np\n",
    "import pylab as pl\n",
    "%pylab inline\n",
    "\n",
    "import time\n",
    "from IPython.display import display, clear_output"
   ]
  },
  {
   "cell_type": "code",
   "execution_count": 2,
   "metadata": {
    "ExecuteTime": {
     "end_time": "2017-12-07T09:28:52.712437",
     "start_time": "2017-12-07T09:28:52.707765"
    },
    "run_control": {
     "frozen": false,
     "read_only": false
    }
   },
   "outputs": [],
   "source": [
    "np.random.seed(333)"
   ]
  },
  {
   "cell_type": "code",
   "execution_count": 3,
   "metadata": {
    "ExecuteTime": {
     "end_time": "2017-12-07T09:28:52.934772",
     "start_time": "2017-12-07T09:28:52.930841"
    },
    "run_control": {
     "frozen": false,
     "read_only": false
    }
   },
   "outputs": [],
   "source": [
    "random_1=np.random.randn(2,100)"
   ]
  },
  {
   "cell_type": "code",
   "execution_count": 4,
   "metadata": {
    "ExecuteTime": {
     "end_time": "2017-12-07T09:28:53.144071",
     "start_time": "2017-12-07T09:28:53.135607"
    },
    "run_control": {
     "frozen": false,
     "read_only": false
    }
   },
   "outputs": [
    {
     "data": {
      "text/plain": [
       "(2, 100)"
      ]
     },
     "execution_count": 4,
     "metadata": {},
     "output_type": "execute_result"
    }
   ],
   "source": [
    "random_1.shape"
   ]
  },
  {
   "cell_type": "code",
   "execution_count": 5,
   "metadata": {
    "ExecuteTime": {
     "end_time": "2017-12-07T09:28:53.318811",
     "start_time": "2017-12-07T09:28:53.315682"
    },
    "run_control": {
     "frozen": false,
     "read_only": false
    }
   },
   "outputs": [],
   "source": [
    "random_2 = np.random.randn(2,100) + 2"
   ]
  },
  {
   "cell_type": "code",
   "execution_count": 6,
   "metadata": {
    "ExecuteTime": {
     "end_time": "2017-12-07T09:28:53.942506",
     "start_time": "2017-12-07T09:28:53.691814"
    },
    "run_control": {
     "frozen": false,
     "read_only": false
    }
   },
   "outputs": [
    {
     "data": {
      "image/png": "[encoded data removed]",
      "text/plain": [
       "<matplotlib.figure.Figure at 0x7f8fcf5373c8>"
      ]
     },
     "metadata": {},
     "output_type": "display_data"
    }
   ],
   "source": [
    "pl.plot(random_1[0], random_1[1],'.')\n",
    "pl.plot(random_2[0], random_2[1],'.')\n",
    "pl.xlabel('x')\n",
    "pl.ylabel('y');"
   ]
  },
  {
   "cell_type": "code",
   "execution_count": 7,
   "metadata": {
    "ExecuteTime": {
     "end_time": "2017-12-07T09:28:54.251112",
     "start_time": "2017-12-07T09:28:54.248081"
    },
    "run_control": {
     "frozen": false,
     "read_only": false
    }
   },
   "outputs": [],
   "source": [
    "clusters=2"
   ]
  },
  {
   "cell_type": "code",
   "execution_count": 8,
   "metadata": {
    "ExecuteTime": {
     "end_time": "2017-12-07T09:28:54.766632",
     "start_time": "2017-12-07T09:28:54.761626"
    },
    "run_control": {
     "frozen": false,
     "read_only": false
    }
   },
   "outputs": [],
   "source": [
    "random_stack = np.hstack([random_1, random_2])"
   ]
  },
  {
   "cell_type": "code",
   "execution_count": 9,
   "metadata": {
    "ExecuteTime": {
     "end_time": "2017-12-07T09:33:43.077041",
     "start_time": "2017-12-07T09:33:43.069516"
    },
    "run_control": {
     "frozen": false,
     "read_only": false
    }
   },
   "outputs": [
    {
     "data": {
      "text/plain": [
       "(-2.7721666442989643, 4.1499677309187222)"
      ]
     },
     "execution_count": 9,
     "metadata": {},
     "output_type": "execute_result"
    }
   ],
   "source": [
    "min(random_stack[0]), max(random_stack[0])"
   ]
  },
  {
   "cell_type": "code",
   "execution_count": 10,
   "metadata": {
    "ExecuteTime": {
     "end_time": "2017-12-07T09:33:43.077041",
     "start_time": "2017-12-07T09:33:43.069516"
    },
    "run_control": {
     "frozen": false,
     "read_only": false
    }
   },
   "outputs": [],
   "source": [
    "centers = np.array([[0.,-1.], [0,-2]]) \n",
    "#np.array((np.random.rand(4)   * (max(random_stack[0]) - min(random_stack[0]))) + min(random_stack[0])).reshape(2,2)"
   ]
  },
  {
   "cell_type": "code",
   "execution_count": 11,
   "metadata": {
    "ExecuteTime": {
     "end_time": "2017-12-07T09:33:43.879955",
     "start_time": "2017-12-07T09:33:43.661410"
    },
    "run_control": {
     "frozen": false,
     "read_only": false
    }
   },
   "outputs": [
    {
     "data": {
      "text/plain": [
       "Text(0,0.5,'y')"
      ]
     },
     "execution_count": 11,
     "metadata": {},
     "output_type": "execute_result"
    },
    {
     "data": {
      "image/png": "[encoded data removed]",
      "text/plain": [
       "<matplotlib.figure.Figure at 0x7f8fcf5370b8>"
      ]
     },
     "metadata": {},
     "output_type": "display_data"
    }
   ],
   "source": [
    "pl.plot(random_1[0], random_1[1],'.')\n",
    "pl.plot(random_2[0], random_2[1],'.')\n",
    "pl.plot(centers[0,0], centers[0,1],'*', markersize=10)\n",
    "pl.plot(centers[1,0], centers[1,1],'*', markersize=10)\n",
    "pl.xlabel('x')\n",
    "pl.ylabel('y')"
   ]
  },
  {
   "cell_type": "code",
   "execution_count": 12,
   "metadata": {
    "ExecuteTime": {
     "end_time": "2017-12-07T09:33:44.481446",
     "start_time": "2017-12-07T09:33:44.473847"
    },
    "run_control": {
     "frozen": false,
     "read_only": false
    }
   },
   "outputs": [],
   "source": [
    "def distmetric(x, y, center):\n",
    "    distmetric = np.sqrt((x - center[0])**2 + (y - center[1])**2)\n",
    "    return distmetric"
   ]
  },
  {
   "cell_type": "markdown",
   "metadata": {},
   "source": [
    "# 3. check for each point which center is closer"
   ]
  },
  {
   "cell_type": "code",
   "execution_count": 13,
   "metadata": {
    "ExecuteTime": {
     "end_time": "2017-12-07T09:33:45.225547",
     "start_time": "2017-12-07T09:33:45.208931"
    },
    "run_control": {
     "frozen": false,
     "marked": false,
     "read_only": false
    },
    "scrolled": true
   },
   "outputs": [
    {
     "data": {
      "text/plain": [
       "array([ True,  True,  True,  True,  True,  True,  True,  True,  True,\n",
       "        True,  True,  True,  True,  True,  True,  True,  True,  True,\n",
       "        True,  True,  True,  True,  True,  True,  True, False,  True,\n",
       "        True,  True,  True, False,  True,  True,  True,  True,  True,\n",
       "        True, False,  True,  True,  True,  True,  True,  True,  True,\n",
       "        True,  True,  True,  True,  True,  True,  True,  True,  True,\n",
       "        True,  True,  True,  True,  True,  True,  True,  True,  True,\n",
       "        True,  True,  True,  True,  True,  True,  True,  True,  True,\n",
       "        True,  True,  True,  True,  True,  True,  True,  True,  True,\n",
       "        True,  True,  True,  True,  True,  True,  True,  True, False,\n",
       "        True,  True,  True,  True,  True,  True,  True,  True,  True,  True], dtype=bool)"
      ]
     },
     "execution_count": 13,
     "metadata": {},
     "output_type": "execute_result"
    }
   ],
   "source": [
    "cl1 = distmetric(random_1[0], random_1[1], centers[0]) < distmetric(random_1[0], random_1[1], centers[1])\n",
    "cl2 = distmetric(random_2[0], random_2[1], centers[0]) < distmetric(random_2[0], random_2[1], centers[1])\n",
    "newc = np.array(\n",
    "    [np.hstack([random_1[:, cl1], random_2[:, cl2]]).mean(axis=1), \n",
    "        np.hstack([random_1[:, ~cl1], random_2[:, ~cl2]]).mean(axis=1)])\n",
    "cl1"
   ]
  },
  {
   "cell_type": "code",
   "execution_count": 14,
   "metadata": {},
   "outputs": [
    {
     "data": {
      "text/plain": [
       "(array([[ 0., -1.],\n",
       "        [ 0., -2.]]), array([[ 0.96972306,  1.06522176],\n",
       "        [ 1.02400655, -2.10176012]]))"
      ]
     },
     "execution_count": 14,
     "metadata": {},
     "output_type": "execute_result"
    }
   ],
   "source": [
    "centers, newc"
   ]
  },
  {
   "cell_type": "markdown",
   "metadata": {},
   "source": [
    "# 4. calculate new centers"
   ]
  },
  {
   "cell_type": "code",
   "execution_count": 15,
   "metadata": {},
   "outputs": [
    {
     "name": "stdout",
     "output_type": "stream",
     "text": [
      "old center\n",
      " [[ 0. -1.]\n",
      " [ 0. -2.]] \n",
      "new center\n",
      " [[ 0.96972306  1.06522176]\n",
      " [ 1.02400655 -2.10176012]]\n"
     ]
    }
   ],
   "source": [
    "newc = np.array(\n",
    "    [np.hstack([random_1[:, cl1], random_2[:, cl2]]).mean(axis=1), \n",
    "        np.hstack([random_1[:, ~cl1], random_2[:, ~cl2]]).mean(axis=1)])\n",
    "print (\"old center\\n\", centers, \"\\nnew center\\n\", newc)"
   ]
  },
  {
   "cell_type": "markdown",
   "metadata": {},
   "source": [
    "# 5. iterate 3&4 till convergence"
   ]
  },
  {
   "cell_type": "code",
   "execution_count": 16,
   "metadata": {},
   "outputs": [
    {
     "data": {
      "image/png": "[encoded data removed]",
      "text/plain": [
       "<matplotlib.figure.Figure at 0x7f8fccf238d0>"
      ]
     },
     "metadata": {},
     "output_type": "display_data"
    }
   ],
   "source": [
    "iterat = 0\n",
    "\n",
    "fig, ax = plt.subplots()\n",
    "\n",
    "l1, = ax.plot(np.hstack([random_1[:,cl1], random_2[:,cl2]])[0],\n",
    "             np.hstack([random_1[:,cl1], random_2[:,cl2]])[1], 'r.')\n",
    "\n",
    "l2, = ax.plot(np.hstack([random_1[:,~cl1], random_2[:,~cl2]])[0],\n",
    "             np.hstack([random_1[:,~cl1], random_2[:,~cl2]])[1], 'b.')\n",
    "\n",
    "l3, = ax.plot(centers[0,0], centers[0,1],'*', markersize=10)\n",
    "l4, = ax.plot(centers[1,0], centers[1,1],'*', markersize=10)"
   ]
  },
  {
   "cell_type": "markdown",
   "metadata": {},
   "source": [
    "## ** Animated"
   ]
  },
  {
   "cell_type": "code",
   "execution_count": 17,
   "metadata": {},
   "outputs": [
    {
     "data": {
      "image/png": "[encoded data removed]",
      "text/plain": [
       "<matplotlib.figure.Figure at 0x7f8fcceaff28>"
      ]
     },
     "metadata": {},
     "output_type": "display_data"
    },
    {
     "data": {
      "image/png": "[encoded data removed]",
      "text/plain": [
       "<matplotlib.figure.Figure at 0x7f8fcceaff28>"
      ]
     },
     "metadata": {},
     "output_type": "display_data"
    },
    {
     "name": "stdout",
     "output_type": "stream",
     "text": [
      "old center\n",
      " [[ 2.01522567  1.93589473]\n",
      " [-0.09470755  0.04900058]] \n",
      "new center\n",
      " [[ 2.01522567  1.93589473]\n",
      " [-0.09470755  0.04900058]]\n"
     ]
    },
    {
     "data": {
      "image/png": "[encoded data removed]",
      "text/plain": [
       "<matplotlib.figure.Figure at 0x7f8fcceaff28>"
      ]
     },
     "metadata": {},
     "output_type": "display_data"
    }
   ],
   "source": [
    "iterat = 0\n",
    "\n",
    "fig, ax = plt.subplots()\n",
    "\n",
    "l1, = ax.plot(np.hstack([random_1[:,cl1], random_2[:,cl2]])[0],\n",
    "             np.hstack([random_1[:,cl1], random_2[:,cl2]])[1], 'r.')\n",
    "\n",
    "l2, = ax.plot(np.hstack([random_1[:,~cl1], random_2[:,~cl2]])[0],\n",
    "             np.hstack([random_1[:,~cl1], random_2[:,~cl2]])[1], 'b.')\n",
    "\n",
    "l3, = ax.plot(centers[0,0], centers[0,1],'*', markersize=10)\n",
    "l4, = ax.plot(centers[1,0], centers[1,1],'*', markersize=10)\n",
    "\n",
    "display(fig)\n",
    "\n",
    "while (not (centers == newc).all()) or iterat > 10:\n",
    "    print(\"iteration \",iterat)\n",
    "    centers = newc\n",
    "    iterat += 1\n",
    "    pl.cla()\n",
    "    time.sleep(1)\n",
    "    clear_output(wait=True)\n",
    "    \n",
    "    display(fig)\n",
    "    \n",
    "    l1, = ax.plot(np.hstack([random_1[:,cl1], random_2[:,cl2]])[0],\n",
    "             np.hstack([random_1[:,cl1], random_2[:,cl2]])[1], 'r.')\n",
    "\n",
    "    l2, = ax.plot(np.hstack([random_1[:,~cl1], random_2[:,~cl2]])[0],\n",
    "             np.hstack([random_1[:,~cl1], random_2[:,~cl2]])[1], 'b.')\n",
    "\n",
    "    l3, = ax.plot(centers[0,0], centers[0,1],'*', markersize=10)\n",
    "    l4, = ax.plot(centers[1,0], centers[1,1],'*', markersize=10)     \n",
    "    display(fig)\n",
    "    #clear_output()\n",
    "    \n",
    "    cl1 = distmetric(random_1[0], random_1[1], centers[0]) < distmetric(random_1[0], random_1[1], centers[1])\n",
    "    cl2 = distmetric(random_2[0], random_2[1], centers[0]) < distmetric(random_2[0], random_2[1], centers[1])\n",
    "\n",
    "    newc = np.array(\n",
    "    [np.hstack([random_1[:, cl1], random_2[:, cl2]]).mean(axis=1), \n",
    "        np.hstack([random_1[:, ~cl1], random_2[:, ~cl2]]).mean(axis=1)])\n",
    "    print (\"old center\\n\", centers, \"\\nnew center\\n\", newc)\n",
    "    \n",
    "    \n",
    "    \n",
    "pl.show()"
   ]
  },
  {
   "cell_type": "markdown",
   "metadata": {},
   "source": [
    "## ** Not Animated - _Please run the notebook again to be able to run the results independently from the animated figure_"
   ]
  },
  {
   "cell_type": "code",
   "execution_count": 19,
   "metadata": {},
   "outputs": [
    {
     "data": {
      "image/png": "[encoded data removed]",
      "text/plain": [
       "<matplotlib.figure.Figure at 0x7f8fccebd2e8>"
      ]
     },
     "metadata": {},
     "output_type": "display_data"
    },
    {
     "data": {
      "image/png": "[encoded data removed]",
      "text/plain": [
       "<matplotlib.figure.Figure at 0x7f8fccebd2e8>"
      ]
     },
     "metadata": {},
     "output_type": "display_data"
    }
   ],
   "source": [
    "iterat = 0\n",
    "\n",
    "fig, ax = plt.subplots()\n",
    "\n",
    "l1, = ax.plot(np.hstack([random_1[:,cl1], random_2[:,cl2]])[0],\n",
    "             np.hstack([random_1[:,cl1], random_2[:,cl2]])[1], 'r.')\n",
    "\n",
    "l2, = ax.plot(np.hstack([random_1[:,~cl1], random_2[:,~cl2]])[0],\n",
    "             np.hstack([random_1[:,~cl1], random_2[:,~cl2]])[1], 'b.')\n",
    "\n",
    "l3, = ax.plot(centers[0,0], centers[0,1],'*', markersize=10)\n",
    "l4, = ax.plot(centers[1,0], centers[1,1],'*', markersize=10)\n",
    "\n",
    "display(fig)\n",
    "\n",
    "while (not (centers == newc).all()) or iterat > 10:\n",
    "    print(\"iteration \",iterat)\n",
    "    centers = newc\n",
    "    iterat += 1\n",
    "    pl.cla()\n",
    "    \n",
    "    l1, = ax.plot(np.hstack([random_1[:,cl1], random_2[:,cl2]])[0],\n",
    "             np.hstack([random_1[:,cl1], random_2[:,cl2]])[1], 'r.')\n",
    "\n",
    "    l2, = ax.plot(np.hstack([random_1[:,~cl1], random_2[:,~cl2]])[0],\n",
    "             np.hstack([random_1[:,~cl1], random_2[:,~cl2]])[1], 'b.')\n",
    "\n",
    "    l3, = ax.plot(centers[0,0], centers[0,1],'*', markersize=10)\n",
    "    l4, = ax.plot(centers[1,0], centers[1,1],'*', markersize=10)     \n",
    "    display(fig)\n",
    "    #clear_output()\n",
    "    \n",
    "    cl1 = distmetric(random_1[0], random_1[1], centers[0]) < distmetric(random_1[0], random_1[1], centers[1])\n",
    "    cl2 = distmetric(random_2[0], random_2[1], centers[0]) < distmetric(random_2[0], random_2[1], centers[1])\n",
    "\n",
    "    newc = np.array(\n",
    "    [np.hstack([random_1[:, cl1], random_2[:, cl2]]).mean(axis=1), \n",
    "        np.hstack([random_1[:, ~cl1], random_2[:, ~cl2]]).mean(axis=1)])\n",
    "    print (\"old center\\n\", centers, \"\\nnew center\\n\", newc)\n",
    "    \n",
    "    \n",
    "    \n",
    "pl.show()"
   ]
  },
  {
   "cell_type": "markdown",
   "metadata": {},
   "source": [
    "Points: 10\n",
    "\n",
    "Total: 7/10"
   ]
  },
  {
   "cell_type": "code",
   "execution_count": null,
   "metadata": {},
   "outputs": [],
   "source": []
  }
 ],
 "metadata": {
  "kernelspec": {
   "display_name": "PUI2016_Python3",
   "language": "python",
   "name": "pui2016_python3"
  },
  "language_info": {
   "codemirror_mode": {
    "name": "ipython",
    "version": 3
   },
   "file_extension": ".py",
   "mimetype": "text/x-python",
   "name": "python",
   "nbconvert_exporter": "python",
   "pygments_lexer": "ipython3",
   "version": "3.5.4"
  },
  "toc": {
   "colors": {
    "hover_highlight": "#DAA520",
    "running_highlight": "#FF0000",
    "selected_highlight": "#FFD700"
   },
   "moveMenuLeft": true,
   "nav_menu": {
    "height": "11px",
    "width": "251px"
   },
   "navigate_menu": true,
   "number_sections": true,
   "sideBar": true,
   "threshold": 4,
   "toc_cell": false,
   "toc_section_display": "block",
   "toc_window_display": false
  }
 },
 "nbformat": 4,
 "nbformat_minor": 1
}
