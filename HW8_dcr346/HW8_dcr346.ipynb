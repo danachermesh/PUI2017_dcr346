{
 "cells": [
  {
   "cell_type": "markdown",
   "metadata": {},
   "source": [
    "## HW8_dcr346\n",
    "\n",
    "# Creating a plot Assignment: Permits Issuance Data (DOB)\n",
    "\n",
    "Author: Dana Chermesh, CUSP 2017\n",
    "\n",
    "The objective of this assignment was to get a picture of the urban development level / situation of the city by viewing the amount of permits issued, categorically seperated by permit types, for each of all 5 New York City's boroughs. Data were retrieved from [CUSP Data Facility DOB permit issuance data](http://urbanprofiler.cloudapp.net/dataset/ipu4-2q9a/)"
   ]
  },
  {
   "cell_type": "code",
   "execution_count": 10,
   "metadata": {},
   "outputs": [
    {
     "name": "stdout",
     "output_type": "stream",
     "text": [
      "Populating the interactive namespace from numpy and matplotlib\n"
     ]
    }
   ],
   "source": [
    "from __future__ import division\n",
    "\n",
    "import numpy as np\n",
    "import pandas as pd\n",
    "import sys\n",
    "import os\n",
    "import pylab as pl\n",
    "import statsmodels.formula.api as smf\n",
    "import geopandas as gp\n",
    "from shapely.geometry import Point\n",
    "import seaborn as sns\n",
    "\n",
    "%pylab inline"
   ]
  },
  {
   "cell_type": "code",
   "execution_count": 2,
   "metadata": {},
   "outputs": [
    {
     "name": "stdout",
     "output_type": "stream",
     "text": [
      "/gws/open/NYCOpenData/nycopendata/data\n"
     ]
    }
   ],
   "source": [
    "DFDATA = os.getenv('DFDATA')\n",
    "print(DFDATA)"
   ]
  },
  {
   "cell_type": "code",
   "execution_count": 3,
   "metadata": {},
   "outputs": [
    {
     "name": "stderr",
     "output_type": "stream",
     "text": [
      "/opt/rh/anaconda/root/envs/PUI2016_Python2/lib/python2.7/site-packages/IPython/core/interactiveshell.py:2717: DtypeWarning: Columns (1,8,9,11,12,31,51) have mixed types. Specify dtype option on import or set low_memory=False.\n",
      "  interactivity=interactivity, compiler=compiler, result=result)\n"
     ]
    },
    {
     "data": {
      "text/html": [
       "<div>\n",
       "<table border=\"1\" class=\"dataframe\">\n",
       "  <thead>\n",
       "    <tr style=\"text-align: right;\">\n",
       "      <th></th>\n",
       "      <th>BOROUGH</th>\n",
       "      <th>Bin #</th>\n",
       "      <th>House #</th>\n",
       "      <th>Street Name</th>\n",
       "      <th>Job #</th>\n",
       "      <th>Job doc. #</th>\n",
       "      <th>Job Type</th>\n",
       "      <th>Self_Cert</th>\n",
       "      <th>Block</th>\n",
       "      <th>Lot</th>\n",
       "      <th>...</th>\n",
       "      <th>Owner's Business Name</th>\n",
       "      <th>Owner's First Name</th>\n",
       "      <th>Owner's Last Name</th>\n",
       "      <th>Owner's House #</th>\n",
       "      <th>Owner's House Street Name</th>\n",
       "      <th>Owner’s House City</th>\n",
       "      <th>Owner’s House State</th>\n",
       "      <th>Owner’s House Zip Code</th>\n",
       "      <th>Owner's Phone #</th>\n",
       "      <th>DOBRunDate</th>\n",
       "    </tr>\n",
       "  </thead>\n",
       "  <tbody>\n",
       "    <tr>\n",
       "      <th>0</th>\n",
       "      <td>MANHATTAN</td>\n",
       "      <td>1030531</td>\n",
       "      <td>266</td>\n",
       "      <td>WEST 73 STREET</td>\n",
       "      <td>140325315.0</td>\n",
       "      <td>1.0</td>\n",
       "      <td>A2</td>\n",
       "      <td>NaN</td>\n",
       "      <td>1164</td>\n",
       "      <td>58</td>\n",
       "      <td>...</td>\n",
       "      <td>266 WEST 73 STREET, LLC</td>\n",
       "      <td>CELSO</td>\n",
       "      <td>VASQUEZ</td>\n",
       "      <td>163</td>\n",
       "      <td>WEST 74 STREET</td>\n",
       "      <td>NEW YORK</td>\n",
       "      <td>NY</td>\n",
       "      <td>10023</td>\n",
       "      <td>2125959590</td>\n",
       "      <td>05/30/2015 12:00:00 AM</td>\n",
       "    </tr>\n",
       "    <tr>\n",
       "      <th>1</th>\n",
       "      <td>MANHATTAN</td>\n",
       "      <td>1044119</td>\n",
       "      <td>244</td>\n",
       "      <td>EAST 78TH STREET</td>\n",
       "      <td>121584035.0</td>\n",
       "      <td>1.0</td>\n",
       "      <td>A2</td>\n",
       "      <td>NaN</td>\n",
       "      <td>1432</td>\n",
       "      <td>34</td>\n",
       "      <td>...</td>\n",
       "      <td>244 EAST 78 REALTY LLC</td>\n",
       "      <td>TERRENCE</td>\n",
       "      <td>LOWENBERG</td>\n",
       "      <td>433</td>\n",
       "      <td>WEST 14TH STREET</td>\n",
       "      <td>NEW YORK</td>\n",
       "      <td>NY</td>\n",
       "      <td>10014</td>\n",
       "      <td>2126612700</td>\n",
       "      <td>05/30/2015 12:00:00 AM</td>\n",
       "    </tr>\n",
       "    <tr>\n",
       "      <th>2</th>\n",
       "      <td>MANHATTAN</td>\n",
       "      <td>1015146</td>\n",
       "      <td>839</td>\n",
       "      <td>AVE OF THE AMERICAS</td>\n",
       "      <td>122359401.0</td>\n",
       "      <td>2.0</td>\n",
       "      <td>A2</td>\n",
       "      <td>Y</td>\n",
       "      <td>805</td>\n",
       "      <td>7502</td>\n",
       "      <td>...</td>\n",
       "      <td>835 6TH AVE MASTER L.P</td>\n",
       "      <td>STEPHAN</td>\n",
       "      <td>OREFICE</td>\n",
       "      <td>590</td>\n",
       "      <td>MADISON AVE</td>\n",
       "      <td>NEW YORK</td>\n",
       "      <td>NY</td>\n",
       "      <td>10022</td>\n",
       "      <td>2129014937</td>\n",
       "      <td>05/30/2015 12:00:00 AM</td>\n",
       "    </tr>\n",
       "    <tr>\n",
       "      <th>3</th>\n",
       "      <td>BROOKLYN</td>\n",
       "      <td>3245564</td>\n",
       "      <td>7</td>\n",
       "      <td>CORBIN PLACE</td>\n",
       "      <td>320561897.0</td>\n",
       "      <td>1.0</td>\n",
       "      <td>NB</td>\n",
       "      <td>NaN</td>\n",
       "      <td>8713</td>\n",
       "      <td>900</td>\n",
       "      <td>...</td>\n",
       "      <td>7 CORBIN PLACE, LLC.</td>\n",
       "      <td>OLEG</td>\n",
       "      <td>KRASNITSKY</td>\n",
       "      <td>7</td>\n",
       "      <td>CORBIN PLACE</td>\n",
       "      <td>BROOKLYN</td>\n",
       "      <td>NY</td>\n",
       "      <td>11235</td>\n",
       "      <td>6464963287</td>\n",
       "      <td>05/30/2015 12:00:00 AM</td>\n",
       "    </tr>\n",
       "    <tr>\n",
       "      <th>4</th>\n",
       "      <td>QUEENS</td>\n",
       "      <td>4047393</td>\n",
       "      <td>102-32</td>\n",
       "      <td>CORONA AVENUE</td>\n",
       "      <td>440194246.0</td>\n",
       "      <td>1.0</td>\n",
       "      <td>A2</td>\n",
       "      <td>Y</td>\n",
       "      <td>1928</td>\n",
       "      <td>18</td>\n",
       "      <td>...</td>\n",
       "      <td>GK 48 HOLDINGS, LLC</td>\n",
       "      <td>JOSEPH</td>\n",
       "      <td>MALATESTA</td>\n",
       "      <td>47-10</td>\n",
       "      <td>104TH STREET</td>\n",
       "      <td>CORONA</td>\n",
       "      <td>NY</td>\n",
       "      <td>11368</td>\n",
       "      <td>7182053334</td>\n",
       "      <td>05/30/2015 12:00:00 AM</td>\n",
       "    </tr>\n",
       "  </tbody>\n",
       "</table>\n",
       "<p>5 rows × 54 columns</p>\n",
       "</div>"
      ],
      "text/plain": [
       "     BOROUGH    Bin #       House #                       Street Name  \\\n",
       "0  MANHATTAN  1030531  266           WEST 73 STREET                     \n",
       "1  MANHATTAN  1044119  244           EAST 78TH STREET                   \n",
       "2  MANHATTAN  1015146  839           AVE OF THE AMERICAS                \n",
       "3   BROOKLYN  3245564  7             CORBIN PLACE                       \n",
       "4     QUEENS  4047393  102-32        CORONA AVENUE                      \n",
       "\n",
       "         Job #  Job doc. # Job Type Self_Cert Block   Lot  \\\n",
       "0  140325315.0         1.0       A2       NaN  1164    58   \n",
       "1  121584035.0         1.0       A2       NaN  1432    34   \n",
       "2  122359401.0         2.0       A2         Y   805  7502   \n",
       "3  320561897.0         1.0       NB       NaN  8713   900   \n",
       "4  440194246.0         1.0       A2         Y  1928    18   \n",
       "\n",
       "            ...                       Owner's Business Name  \\\n",
       "0           ...            266 WEST 73 STREET, LLC            \n",
       "1           ...            244 EAST 78 REALTY LLC             \n",
       "2           ...            835 6TH AVE MASTER L.P             \n",
       "3           ...            7 CORBIN PLACE, LLC.               \n",
       "4           ...            GK 48 HOLDINGS, LLC                \n",
       "\n",
       "  Owner's First Name               Owner's Last Name Owner's House #  \\\n",
       "0    CELSO            VASQUEZ                           163            \n",
       "1    TERRENCE         LOWENBERG                         433            \n",
       "2    STEPHAN          OREFICE                           590            \n",
       "3    OLEG             KRASNITSKY                        7              \n",
       "4    JOSEPH           MALATESTA                         47-10          \n",
       "\n",
       "          Owner's House Street Name Owner’s House City Owner’s House State  \\\n",
       "0  WEST 74 STREET                      NEW YORK                         NY   \n",
       "1  WEST 14TH STREET                    NEW YORK                         NY   \n",
       "2  MADISON AVE                         NEW YORK                         NY   \n",
       "3  CORBIN PLACE                        BROOKLYN                         NY   \n",
       "4  104TH STREET                        CORONA                           NY   \n",
       "\n",
       "  Owner’s House Zip Code Owner's Phone #              DOBRunDate  \n",
       "0                  10023      2125959590  05/30/2015 12:00:00 AM  \n",
       "1                  10014      2126612700  05/30/2015 12:00:00 AM  \n",
       "2                  10022      2129014937  05/30/2015 12:00:00 AM  \n",
       "3                  11235      6464963287  05/30/2015 12:00:00 AM  \n",
       "4                  11368      7182053334  05/30/2015 12:00:00 AM  \n",
       "\n",
       "[5 rows x 54 columns]"
      ]
     },
     "execution_count": 3,
     "metadata": {},
     "output_type": "execute_result"
    }
   ],
   "source": [
    "dfDOB = pd.read_csv(DFDATA+'/ipu4-2q9a/1433008929/ipu4-2q9a')\n",
    "dfDOB.head()"
   ]
  },
  {
   "cell_type": "code",
   "execution_count": 4,
   "metadata": {},
   "outputs": [
    {
     "data": {
      "text/plain": [
       "Index([u'BOROUGH', u'Bin #', u'House #', u'Street Name', u'Job #',\n",
       "       u'Job doc. #', u'Job Type', u'Self_Cert', u'Block', u'Lot',\n",
       "       u'Community Board', u'Zip Code', u'Bldg Type', u'Residential',\n",
       "       u'Special District 1', u'Special District 2', u'Work Type',\n",
       "       u'Permit Status', u'Filing Status', u'Permit Type',\n",
       "       u'Permit Sequence #', u'Permit Subtype', u'Oil Gas', u'Site Fill',\n",
       "       u'Filing Date', u'Issuance Date', u'Expiration Date', u'Job Start Date',\n",
       "       u'Permittee's First Name', u'Permittee's Last Name',\n",
       "       u'Permittee's Business Name', u'Permittee's Phone #',\n",
       "       u'Permittee's License Type', u'Permittee's License #',\n",
       "       u'Act as Superintendent', u'Permittee's Other Title', u'HIC License',\n",
       "       u'Site Safety Mgr's First Name', u'Site Safety Mgr's Last Name',\n",
       "       u'Site Safety Mgr Business Name', u'Superintendent First & Last Name',\n",
       "       u'Superintendent Business Name', u'Owner's Business Type',\n",
       "       u'Non-Profit', u'Owner's Business Name', u'Owner's First Name',\n",
       "       u'Owner's Last Name', u'Owner's House #', u'Owner's House Street Name',\n",
       "       u'Owner’s House City', u'Owner’s House State',\n",
       "       u'Owner’s House Zip Code', u'Owner's Phone #', u'DOBRunDate'],\n",
       "      dtype='object')"
      ]
     },
     "execution_count": 4,
     "metadata": {},
     "output_type": "execute_result"
    }
   ],
   "source": [
    "dfDOB.columns"
   ]
  },
  {
   "cell_type": "markdown",
   "metadata": {},
   "source": [
    "### Cleaning data, selecting Permit type + Borough data only\n"
   ]
  },
  {
   "cell_type": "code",
   "execution_count": 5,
   "metadata": {},
   "outputs": [
    {
     "data": {
      "text/plain": [
       "354132"
      ]
     },
     "execution_count": 5,
     "metadata": {},
     "output_type": "execute_result"
    }
   ],
   "source": [
    "dfDOB = dfDOB[['BOROUGH','Permit Type']]\n",
    "dfDOB = dfDOB.dropna(0)\n",
    "len(dfDOB)"
   ]
  },
  {
   "cell_type": "markdown",
   "metadata": {},
   "source": [
    "### Permit Types Codes:\n",
    "https://www1.nyc.gov/assets/buildings/pdf/bisjobstatus.pdf\n",
    "\n",
    "* I chose to plot **New Building**, **Alternation** and **Earthwork** permit types only, to get a better sense of the development level of each borough and due to the fact that other permit types refer to plumbing issues, signs, etc."
   ]
  },
  {
   "cell_type": "code",
   "execution_count": 6,
   "metadata": {},
   "outputs": [],
   "source": [
    "New_Building = dfDOB['BOROUGH'][dfDOB['Permit Type'] == 'NB'].value_counts()\n",
    "Alternation = dfDOB['BOROUGH'][dfDOB['Permit Type'] == 'AL'].value_counts()\n",
    "Earthwork = dfDOB['BOROUGH'][dfDOB['Permit Type'] == 'FO'].value_counts()"
   ]
  },
  {
   "cell_type": "code",
   "execution_count": 7,
   "metadata": {},
   "outputs": [
    {
     "data": {
      "text/plain": [
       "BROOKLYN         4175\n",
       "QUEENS           3907\n",
       "STATEN ISLAND    2336\n",
       "MANHATTAN        1303\n",
       "BRONX            1182\n",
       "Name: BOROUGH, dtype: int64"
      ]
     },
     "execution_count": 7,
     "metadata": {},
     "output_type": "execute_result"
    }
   ],
   "source": [
    "New_Building"
   ]
  },
  {
   "cell_type": "code",
   "execution_count": 16,
   "metadata": {},
   "outputs": [
    {
     "data": {
      "text/html": [
       "<div>\n",
       "<table border=\"1\" class=\"dataframe\">\n",
       "  <thead>\n",
       "    <tr style=\"text-align: right;\">\n",
       "      <th></th>\n",
       "      <th>Alternation</th>\n",
       "      <th>Earthwork</th>\n",
       "      <th>New Building</th>\n",
       "    </tr>\n",
       "  </thead>\n",
       "  <tbody>\n",
       "    <tr>\n",
       "      <th>BRONX</th>\n",
       "      <td>2218</td>\n",
       "      <td>468</td>\n",
       "      <td>1182</td>\n",
       "    </tr>\n",
       "    <tr>\n",
       "      <th>BROOKLYN</th>\n",
       "      <td>7147</td>\n",
       "      <td>4004</td>\n",
       "      <td>4175</td>\n",
       "    </tr>\n",
       "    <tr>\n",
       "      <th>MANHATTAN</th>\n",
       "      <td>6992</td>\n",
       "      <td>903</td>\n",
       "      <td>1303</td>\n",
       "    </tr>\n",
       "    <tr>\n",
       "      <th>QUEENS</th>\n",
       "      <td>6194</td>\n",
       "      <td>3992</td>\n",
       "      <td>3907</td>\n",
       "    </tr>\n",
       "    <tr>\n",
       "      <th>STATEN ISLAND</th>\n",
       "      <td>1165</td>\n",
       "      <td>26</td>\n",
       "      <td>2336</td>\n",
       "    </tr>\n",
       "  </tbody>\n",
       "</table>\n",
       "</div>"
      ],
      "text/plain": [
       "               Alternation  Earthwork  New Building\n",
       "BRONX                 2218        468          1182\n",
       "BROOKLYN              7147       4004          4175\n",
       "MANHATTAN             6992        903          1303\n",
       "QUEENS                6194       3992          3907\n",
       "STATEN ISLAND         1165         26          2336"
      ]
     },
     "execution_count": 16,
     "metadata": {},
     "output_type": "execute_result"
    }
   ],
   "source": [
    "permits = pd.DataFrame({'New Building': New_Building, 'Alternation': Alternation, 'Earthwork': Earthwork})\n",
    "permits\n",
    "\n",
    "\n",
    "\n"
   ]
  },
  {
   "cell_type": "code",
   "execution_count": 17,
   "metadata": {},
   "outputs": [
    {
     "data": {
      "text/plain": [
       "<matplotlib.figure.Figure at 0x7f86883caad0>"
      ]
     },
     "metadata": {},
     "output_type": "display_data"
    },
    {
     "data": {
      "image/png": "[encoded data removed]",
      "text/plain": [
       "<matplotlib.figure.Figure at 0x7f868861cdd0>"
      ]
     },
     "metadata": {},
     "output_type": "display_data"
    }
   ],
   "source": [
    "pl.figure(figsize = (15,8))\n",
    "sns.set_style(\"whitegrid\")\n",
    "\n",
    "permits.plot(kind='bar', figsize=(15,7), color = ('#FF5733', '#900C3F','#DAF7A6'))\n",
    "pl.title('Permit Issuance by Permit Type and Borough, years 2015-2017', fontsize=25)\n",
    "pl.xlabel('Borough', fontsize=20)\n",
    "pl.ylabel('# Number of permits issued', fontsize=20)\n",
    "pl.xticks(fontsize = 12, rotation=45)\n",
    "pl.yticks(fontsize = 12)\n",
    "pl.legend(fontsize = 15, frameon=True)\n",
    "plt.grid(linewidth=0.25) \n"
   ]
  },
  {
   "cell_type": "markdown",
   "metadata": {},
   "source": [
    "### Fig.1 Permit Issuance by Permit Type and Borough, years 2015-2017\n",
    "It is clear that **Brooklyn** and **Queens** are relatively more developing and / or changing, with large numbers of permits from the three selected types. These two boroughs have also the highest numbers of _New Buildings_ permissions, as well as _demolishings_ (= Earthwork). **Manhattan**, which we know is also facing a rapidly urban development, seems to experience it more in the building _Alternations_ level rather than in new constructions. This makes sense due to the lack of free space in Manhattan and its high density urban areas. **Staten Island** and **Bronx** are the less developing botoughs of the city, as we could have guessed."
   ]
  },
  {
   "cell_type": "code",
   "execution_count": null,
   "metadata": {},
   "outputs": [],
   "source": []
  }
 ],
 "metadata": {
  "kernelspec": {
   "display_name": "PUI2016_Python2",
   "language": "python",
   "name": "pui2016_python2"
  },
  "language_info": {
   "codemirror_mode": {
    "name": "ipython",
    "version": 2
   },
   "file_extension": ".py",
   "mimetype": "text/x-python",
   "name": "python",
   "nbconvert_exporter": "python",
   "pygments_lexer": "ipython2",
   "version": "2.7.12"
  }
 },
 "nbformat": 4,
 "nbformat_minor": 2
}
