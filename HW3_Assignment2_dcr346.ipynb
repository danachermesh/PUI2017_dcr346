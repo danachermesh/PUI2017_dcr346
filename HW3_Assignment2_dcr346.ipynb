{
 "cells": [
  {
   "cell_type": "markdown",
   "metadata": {},
   "source": [
    "# Assignment 2: \n",
    "### Set up the work for data-driven inference based on CitiBike data"
   ]
  },
  {
   "cell_type": "markdown",
   "metadata": {},
   "source": [
    "1. States the question you want to ask, and formulates the Null and Alternative hypothesis"
   ]
  },
  {
   "cell_type": "markdown",
   "metadata": {},
   "source": [
    "__________"
   ]
  },
  {
   "cell_type": "markdown",
   "metadata": {},
   "source": [
    "## Q:"
   ]
  },
  {
   "cell_type": "markdown",
   "metadata": {},
   "source": [
    "Is the percentage of women rides at midnight from total women rides significantly lower than men's midnight rides percentage?"
   ]
  },
  {
   "cell_type": "markdown",
   "metadata": {},
   "source": [
    "## Null Hypothesis"
   ]
  },
  {
   "cell_type": "markdown",
   "metadata": {},
   "source": [
    "The percentage of women rides at midnight from total women rides is similar to or greater than men's rides percentage from total men's rides at the same hour?"
   ]
  },
  {
   "cell_type": "markdown",
   "metadata": {},
   "source": [
    "$H_0$ : $\\frac{W{\\mathrm{midnight}}}{W{\\mathrm{rides}}} => \\frac{M{\\mathrm{midnight}}}{M{\\mathrm{rides}}}$"
   ]
  },
  {
   "cell_type": "markdown",
   "metadata": {},
   "source": [
    "## Alternative Hypothesis"
   ]
  },
  {
   "cell_type": "markdown",
   "metadata": {},
   "source": [
    "The percentage of women rides at midnight from total women rides is significantly smaller than men's rides percentage from total men's rides at the same hour?\n",
    "_significance level_ $\\alpha = 0.05$"
   ]
  },
  {
   "cell_type": "markdown",
   "metadata": {},
   "source": [
    "$H_1$ : $\\frac{W{\\mathrm{midnight}}}{W{\\mathrm{rides}}} < \\frac{M{\\mathrm{midnight}}}{M{\\mathrm{rides}}}$"
   ]
  },
  {
   "cell_type": "markdown",
   "metadata": {},
   "source": [
    "________"
   ]
  },
  {
   "cell_type": "markdown",
   "metadata": {},
   "source": [
    "Use pandas to read in the CitiBike files, either from the DF, or locally, but you must be able to download them on the spot (so the TA can reproduce your work). "
   ]
  },
  {
   "cell_type": "code",
   "execution_count": 93,
   "metadata": {
    "collapsed": false
   },
   "outputs": [
    {
     "name": "stdout",
     "output_type": "stream",
     "text": [
      "Populating the interactive namespace from numpy and matplotlib\n"
     ]
    }
   ],
   "source": [
    "from __future__ import print_function\n",
    "\n",
    "import numpy as np\n",
    "import pylab as pl\n",
    "import pandas as pd\n",
    "import os\n",
    "\n",
    "import seaborn\n",
    "\n",
    "%pylab inline"
   ]
  },
  {
   "cell_type": "code",
   "execution_count": 94,
   "metadata": {
    "collapsed": true
   },
   "outputs": [],
   "source": [
    "df = pd.read_csv(\"/gws/open/Student/citibike/201706-citibike-tripdata.csv.zip\")"
   ]
  },
  {
   "cell_type": "markdown",
   "metadata": {},
   "source": [
    "3. Display the top few rows of the DF in your notebook. This table __must be rendered__.\n",
    "5. Display the reducted dataframe. This table __must be rendered__.\n",
    "6. Plot your data distributions."
   ]
  },
  {
   "cell_type": "code",
   "execution_count": 95,
   "metadata": {
    "collapsed": false
   },
   "outputs": [
    {
     "data": {
      "text/html": [
       "<div>\n",
       "<table border=\"1\" class=\"dataframe\">\n",
       "  <thead>\n",
       "    <tr style=\"text-align: right;\">\n",
       "      <th></th>\n",
       "      <th>tripduration</th>\n",
       "      <th>starttime</th>\n",
       "      <th>stoptime</th>\n",
       "      <th>start station id</th>\n",
       "      <th>start station name</th>\n",
       "      <th>start station latitude</th>\n",
       "      <th>start station longitude</th>\n",
       "      <th>end station id</th>\n",
       "      <th>end station name</th>\n",
       "      <th>end station latitude</th>\n",
       "      <th>end station longitude</th>\n",
       "      <th>bikeid</th>\n",
       "      <th>usertype</th>\n",
       "      <th>birth year</th>\n",
       "      <th>gender</th>\n",
       "    </tr>\n",
       "  </thead>\n",
       "  <tbody>\n",
       "    <tr>\n",
       "      <th>0</th>\n",
       "      <td>1397</td>\n",
       "      <td>2017-06-01 00:00:02</td>\n",
       "      <td>2017-06-01 00:23:19</td>\n",
       "      <td>515</td>\n",
       "      <td>W 43 St &amp; 10 Ave</td>\n",
       "      <td>40.760094</td>\n",
       "      <td>-73.994618</td>\n",
       "      <td>3285</td>\n",
       "      <td>W 87 St  &amp; Amsterdam Ave</td>\n",
       "      <td>40.788390</td>\n",
       "      <td>-73.974700</td>\n",
       "      <td>26642</td>\n",
       "      <td>Subscriber</td>\n",
       "      <td>1967.0</td>\n",
       "      <td>1</td>\n",
       "    </tr>\n",
       "    <tr>\n",
       "      <th>1</th>\n",
       "      <td>1103</td>\n",
       "      <td>2017-06-01 00:00:13</td>\n",
       "      <td>2017-06-01 00:18:37</td>\n",
       "      <td>488</td>\n",
       "      <td>W 39 St &amp; 9 Ave</td>\n",
       "      <td>40.756458</td>\n",
       "      <td>-73.993722</td>\n",
       "      <td>297</td>\n",
       "      <td>E 15 St &amp; 3 Ave</td>\n",
       "      <td>40.734232</td>\n",
       "      <td>-73.986923</td>\n",
       "      <td>25656</td>\n",
       "      <td>Subscriber</td>\n",
       "      <td>1981.0</td>\n",
       "      <td>1</td>\n",
       "    </tr>\n",
       "    <tr>\n",
       "      <th>2</th>\n",
       "      <td>1810</td>\n",
       "      <td>2017-06-01 00:00:20</td>\n",
       "      <td>2017-06-01 00:30:31</td>\n",
       "      <td>461</td>\n",
       "      <td>E 20 St &amp; 2 Ave</td>\n",
       "      <td>40.735877</td>\n",
       "      <td>-73.982050</td>\n",
       "      <td>465</td>\n",
       "      <td>Broadway &amp; W 41 St</td>\n",
       "      <td>40.755136</td>\n",
       "      <td>-73.986580</td>\n",
       "      <td>21023</td>\n",
       "      <td>Subscriber</td>\n",
       "      <td>1982.0</td>\n",
       "      <td>1</td>\n",
       "    </tr>\n",
       "    <tr>\n",
       "      <th>3</th>\n",
       "      <td>1760</td>\n",
       "      <td>2017-06-01 00:00:24</td>\n",
       "      <td>2017-06-01 00:29:45</td>\n",
       "      <td>2009</td>\n",
       "      <td>Catherine St &amp; Monroe St</td>\n",
       "      <td>40.711174</td>\n",
       "      <td>-73.996826</td>\n",
       "      <td>527</td>\n",
       "      <td>E 33 St &amp; 2 Ave</td>\n",
       "      <td>40.744023</td>\n",
       "      <td>-73.976056</td>\n",
       "      <td>25718</td>\n",
       "      <td>Subscriber</td>\n",
       "      <td>1973.0</td>\n",
       "      <td>2</td>\n",
       "    </tr>\n",
       "    <tr>\n",
       "      <th>4</th>\n",
       "      <td>2165</td>\n",
       "      <td>2017-06-01 00:00:33</td>\n",
       "      <td>2017-06-01 00:36:38</td>\n",
       "      <td>360</td>\n",
       "      <td>William St &amp; Pine St</td>\n",
       "      <td>40.707179</td>\n",
       "      <td>-74.008873</td>\n",
       "      <td>474</td>\n",
       "      <td>5 Ave &amp; E 29 St</td>\n",
       "      <td>40.745168</td>\n",
       "      <td>-73.986831</td>\n",
       "      <td>18691</td>\n",
       "      <td>Subscriber</td>\n",
       "      <td>1985.0</td>\n",
       "      <td>1</td>\n",
       "    </tr>\n",
       "  </tbody>\n",
       "</table>\n",
       "</div>"
      ],
      "text/plain": [
       "   tripduration            starttime             stoptime  start station id  \\\n",
       "0          1397  2017-06-01 00:00:02  2017-06-01 00:23:19               515   \n",
       "1          1103  2017-06-01 00:00:13  2017-06-01 00:18:37               488   \n",
       "2          1810  2017-06-01 00:00:20  2017-06-01 00:30:31               461   \n",
       "3          1760  2017-06-01 00:00:24  2017-06-01 00:29:45              2009   \n",
       "4          2165  2017-06-01 00:00:33  2017-06-01 00:36:38               360   \n",
       "\n",
       "         start station name  start station latitude  start station longitude  \\\n",
       "0          W 43 St & 10 Ave               40.760094               -73.994618   \n",
       "1           W 39 St & 9 Ave               40.756458               -73.993722   \n",
       "2           E 20 St & 2 Ave               40.735877               -73.982050   \n",
       "3  Catherine St & Monroe St               40.711174               -73.996826   \n",
       "4      William St & Pine St               40.707179               -74.008873   \n",
       "\n",
       "   end station id          end station name  end station latitude  \\\n",
       "0            3285  W 87 St  & Amsterdam Ave             40.788390   \n",
       "1             297           E 15 St & 3 Ave             40.734232   \n",
       "2             465        Broadway & W 41 St             40.755136   \n",
       "3             527           E 33 St & 2 Ave             40.744023   \n",
       "4             474           5 Ave & E 29 St             40.745168   \n",
       "\n",
       "   end station longitude  bikeid    usertype  birth year  gender  \n",
       "0             -73.974700   26642  Subscriber      1967.0       1  \n",
       "1             -73.986923   25656  Subscriber      1981.0       1  \n",
       "2             -73.986580   21023  Subscriber      1982.0       1  \n",
       "3             -73.976056   25718  Subscriber      1973.0       2  \n",
       "4             -73.986831   18691  Subscriber      1985.0       1  "
      ]
     },
     "execution_count": 95,
     "metadata": {},
     "output_type": "execute_result"
    }
   ],
   "source": [
    "df.head()"
   ]
  },
  {
   "cell_type": "code",
   "execution_count": 89,
   "metadata": {
    "collapsed": false
   },
   "outputs": [],
   "source": [
    "# add a column 'hour' with the hour of the start time; extracted from starttime \n",
    "# using pd.DateTimeIndex\n",
    "\n",
    "df['date'] = pd.to_datetime(df['starttime'])"
   ]
  },
  {
   "cell_type": "code",
   "execution_count": 91,
   "metadata": {
    "collapsed": false
   },
   "outputs": [],
   "source": [
    "df['hour'] = df['date'].dt.hour"
   ]
  },
  {
   "cell_type": "code",
   "execution_count": 92,
   "metadata": {
    "collapsed": false
   },
   "outputs": [
    {
     "data": {
      "text/html": [
       "<div>\n",
       "<table border=\"1\" class=\"dataframe\">\n",
       "  <thead>\n",
       "    <tr style=\"text-align: right;\">\n",
       "      <th></th>\n",
       "      <th>tripduration</th>\n",
       "      <th>starttime</th>\n",
       "      <th>stoptime</th>\n",
       "      <th>start station id</th>\n",
       "      <th>start station name</th>\n",
       "      <th>start station latitude</th>\n",
       "      <th>start station longitude</th>\n",
       "      <th>end station id</th>\n",
       "      <th>end station name</th>\n",
       "      <th>end station latitude</th>\n",
       "      <th>end station longitude</th>\n",
       "      <th>bikeid</th>\n",
       "      <th>usertype</th>\n",
       "      <th>birth year</th>\n",
       "      <th>gender</th>\n",
       "      <th>hour</th>\n",
       "      <th>date</th>\n",
       "    </tr>\n",
       "  </thead>\n",
       "  <tbody>\n",
       "    <tr>\n",
       "      <th>0</th>\n",
       "      <td>1397</td>\n",
       "      <td>2017-06-01 00:00:02</td>\n",
       "      <td>2017-06-01 00:23:19</td>\n",
       "      <td>515</td>\n",
       "      <td>W 43 St &amp; 10 Ave</td>\n",
       "      <td>40.760094</td>\n",
       "      <td>-73.994618</td>\n",
       "      <td>3285</td>\n",
       "      <td>W 87 St  &amp; Amsterdam Ave</td>\n",
       "      <td>40.788390</td>\n",
       "      <td>-73.974700</td>\n",
       "      <td>26642</td>\n",
       "      <td>Subscriber</td>\n",
       "      <td>1967.0</td>\n",
       "      <td>1</td>\n",
       "      <td>0</td>\n",
       "      <td>2017-06-01 00:00:02</td>\n",
       "    </tr>\n",
       "    <tr>\n",
       "      <th>1</th>\n",
       "      <td>1103</td>\n",
       "      <td>2017-06-01 00:00:13</td>\n",
       "      <td>2017-06-01 00:18:37</td>\n",
       "      <td>488</td>\n",
       "      <td>W 39 St &amp; 9 Ave</td>\n",
       "      <td>40.756458</td>\n",
       "      <td>-73.993722</td>\n",
       "      <td>297</td>\n",
       "      <td>E 15 St &amp; 3 Ave</td>\n",
       "      <td>40.734232</td>\n",
       "      <td>-73.986923</td>\n",
       "      <td>25656</td>\n",
       "      <td>Subscriber</td>\n",
       "      <td>1981.0</td>\n",
       "      <td>1</td>\n",
       "      <td>0</td>\n",
       "      <td>2017-06-01 00:00:13</td>\n",
       "    </tr>\n",
       "    <tr>\n",
       "      <th>2</th>\n",
       "      <td>1810</td>\n",
       "      <td>2017-06-01 00:00:20</td>\n",
       "      <td>2017-06-01 00:30:31</td>\n",
       "      <td>461</td>\n",
       "      <td>E 20 St &amp; 2 Ave</td>\n",
       "      <td>40.735877</td>\n",
       "      <td>-73.982050</td>\n",
       "      <td>465</td>\n",
       "      <td>Broadway &amp; W 41 St</td>\n",
       "      <td>40.755136</td>\n",
       "      <td>-73.986580</td>\n",
       "      <td>21023</td>\n",
       "      <td>Subscriber</td>\n",
       "      <td>1982.0</td>\n",
       "      <td>1</td>\n",
       "      <td>0</td>\n",
       "      <td>2017-06-01 00:00:20</td>\n",
       "    </tr>\n",
       "    <tr>\n",
       "      <th>3</th>\n",
       "      <td>1760</td>\n",
       "      <td>2017-06-01 00:00:24</td>\n",
       "      <td>2017-06-01 00:29:45</td>\n",
       "      <td>2009</td>\n",
       "      <td>Catherine St &amp; Monroe St</td>\n",
       "      <td>40.711174</td>\n",
       "      <td>-73.996826</td>\n",
       "      <td>527</td>\n",
       "      <td>E 33 St &amp; 2 Ave</td>\n",
       "      <td>40.744023</td>\n",
       "      <td>-73.976056</td>\n",
       "      <td>25718</td>\n",
       "      <td>Subscriber</td>\n",
       "      <td>1973.0</td>\n",
       "      <td>2</td>\n",
       "      <td>0</td>\n",
       "      <td>2017-06-01 00:00:24</td>\n",
       "    </tr>\n",
       "    <tr>\n",
       "      <th>4</th>\n",
       "      <td>2165</td>\n",
       "      <td>2017-06-01 00:00:33</td>\n",
       "      <td>2017-06-01 00:36:38</td>\n",
       "      <td>360</td>\n",
       "      <td>William St &amp; Pine St</td>\n",
       "      <td>40.707179</td>\n",
       "      <td>-74.008873</td>\n",
       "      <td>474</td>\n",
       "      <td>5 Ave &amp; E 29 St</td>\n",
       "      <td>40.745168</td>\n",
       "      <td>-73.986831</td>\n",
       "      <td>18691</td>\n",
       "      <td>Subscriber</td>\n",
       "      <td>1985.0</td>\n",
       "      <td>1</td>\n",
       "      <td>0</td>\n",
       "      <td>2017-06-01 00:00:33</td>\n",
       "    </tr>\n",
       "  </tbody>\n",
       "</table>\n",
       "</div>"
      ],
      "text/plain": [
       "   tripduration            starttime             stoptime  start station id  \\\n",
       "0          1397  2017-06-01 00:00:02  2017-06-01 00:23:19               515   \n",
       "1          1103  2017-06-01 00:00:13  2017-06-01 00:18:37               488   \n",
       "2          1810  2017-06-01 00:00:20  2017-06-01 00:30:31               461   \n",
       "3          1760  2017-06-01 00:00:24  2017-06-01 00:29:45              2009   \n",
       "4          2165  2017-06-01 00:00:33  2017-06-01 00:36:38               360   \n",
       "\n",
       "         start station name  start station latitude  start station longitude  \\\n",
       "0          W 43 St & 10 Ave               40.760094               -73.994618   \n",
       "1           W 39 St & 9 Ave               40.756458               -73.993722   \n",
       "2           E 20 St & 2 Ave               40.735877               -73.982050   \n",
       "3  Catherine St & Monroe St               40.711174               -73.996826   \n",
       "4      William St & Pine St               40.707179               -74.008873   \n",
       "\n",
       "   end station id          end station name  end station latitude  \\\n",
       "0            3285  W 87 St  & Amsterdam Ave             40.788390   \n",
       "1             297           E 15 St & 3 Ave             40.734232   \n",
       "2             465        Broadway & W 41 St             40.755136   \n",
       "3             527           E 33 St & 2 Ave             40.744023   \n",
       "4             474           5 Ave & E 29 St             40.745168   \n",
       "\n",
       "   end station longitude  bikeid    usertype  birth year  gender  hour  \\\n",
       "0             -73.974700   26642  Subscriber      1967.0       1     0   \n",
       "1             -73.986923   25656  Subscriber      1981.0       1     0   \n",
       "2             -73.986580   21023  Subscriber      1982.0       1     0   \n",
       "3             -73.976056   25718  Subscriber      1973.0       2     0   \n",
       "4             -73.986831   18691  Subscriber      1985.0       1     0   \n",
       "\n",
       "                 date  \n",
       "0 2017-06-01 00:00:02  \n",
       "1 2017-06-01 00:00:13  \n",
       "2 2017-06-01 00:00:20  \n",
       "3 2017-06-01 00:00:24  \n",
       "4 2017-06-01 00:00:33  "
      ]
     },
     "execution_count": 92,
     "metadata": {},
     "output_type": "execute_result"
    }
   ],
   "source": [
    "df.head()"
   ]
  },
  {
   "cell_type": "code",
   "execution_count": 74,
   "metadata": {
    "collapsed": false
   },
   "outputs": [],
   "source": [
    "# CitiBike Gender data is displayed as follows:\n",
    "# Unknown gender = 0\n",
    "# Male = 1\n",
    "# Female = 2\n",
    "\n",
    "# extract the columns for the analysis\n",
    "# I chose not to calculate unknown gender (value = 0) in this analysis\n",
    "df2 = df[['hour','gender']]"
   ]
  },
  {
   "cell_type": "code",
   "execution_count": 75,
   "metadata": {
    "collapsed": false
   },
   "outputs": [
    {
     "data": {
      "text/html": [
       "<div>\n",
       "<table border=\"1\" class=\"dataframe\">\n",
       "  <thead>\n",
       "    <tr style=\"text-align: right;\">\n",
       "      <th></th>\n",
       "      <th>hour</th>\n",
       "      <th>gender</th>\n",
       "    </tr>\n",
       "  </thead>\n",
       "  <tbody>\n",
       "    <tr>\n",
       "      <th>0</th>\n",
       "      <td>0</td>\n",
       "      <td>1</td>\n",
       "    </tr>\n",
       "    <tr>\n",
       "      <th>1</th>\n",
       "      <td>0</td>\n",
       "      <td>1</td>\n",
       "    </tr>\n",
       "    <tr>\n",
       "      <th>2</th>\n",
       "      <td>0</td>\n",
       "      <td>1</td>\n",
       "    </tr>\n",
       "    <tr>\n",
       "      <th>3</th>\n",
       "      <td>0</td>\n",
       "      <td>2</td>\n",
       "    </tr>\n",
       "    <tr>\n",
       "      <th>4</th>\n",
       "      <td>0</td>\n",
       "      <td>1</td>\n",
       "    </tr>\n",
       "  </tbody>\n",
       "</table>\n",
       "</div>"
      ],
      "text/plain": [
       "   hour  gender\n",
       "0     0       1\n",
       "1     0       1\n",
       "2     0       1\n",
       "3     0       2\n",
       "4     0       1"
      ]
     },
     "execution_count": 75,
     "metadata": {},
     "output_type": "execute_result"
    }
   ],
   "source": [
    "df2.head()"
   ]
  },
  {
   "cell_type": "code",
   "execution_count": 76,
   "metadata": {
    "collapsed": false
   },
   "outputs": [
    {
     "name": "stdout",
     "output_type": "stream",
     "text": [
      "401253\n",
      "1131930\n"
     ]
    }
   ],
   "source": [
    "w_total = df2.hour.groupby([df.gender == 2]).count()\n",
    "m_total = df2.hour.groupby([df.gender == 1]).count()\n",
    "\n",
    "w_total = w_total[True]\n",
    "m_total = m_total[True]\n",
    "\n",
    "print(w_total)\n",
    "print(m_total)"
   ]
  },
  {
   "cell_type": "code",
   "execution_count": 109,
   "metadata": {
    "collapsed": false
   },
   "outputs": [
    {
     "data": {
      "text/plain": [
       "<matplotlib.legend.Legend at 0x7f22263ec810>"
      ]
     },
     "execution_count": 109,
     "metadata": {},
     "output_type": "execute_result"
    },
    {
     "data": {
      "image/png": "[encoded data removed]",
      "text/plain": [
       "<matplotlib.figure.Figure at 0x7f22263d9690>"
      ]
     },
     "metadata": {},
     "output_type": "display_data"
    }
   ],
   "source": [
    "fig = pl.figure(figsize(20,12))\n",
    "\n",
    "(((df2['hour'][df2['gender'] == 2].groupby([df2['hour']]).count()) / w_total)*100)\\\n",
    ".plot(kind=\"bar\", color='IndianRed', label='Female')\n",
    "ax = (((df2['hour'][df2['gender'] == 1].groupby([df2['hour']]).count()) / m_total)*100)\\\n",
    ".plot(kind=\"bar\", color='SteelBlue', alpha=0.5, label='Male', fontsize=16)\n",
    "\n",
    "pl.xlabel('Total rides per hour over a month, June 2017', fontsize=20)\n",
    "pl.ylabel('Percentage of total rides', fontsize=20)\n",
    "pl.title('Comparing the ratio of rides by hour to total rides, Women vs Men', fontsize=30)\n",
    "pl.legend(prop={'size': 20})"
   ]
  },
  {
   "cell_type": "markdown",
   "metadata": {},
   "source": [
    "### Results: \n",
    " Reviewing the above distribution, we can reject the Null Hypothesis"
   ]
  }
 ],
 "metadata": {
  "kernelspec": {
   "display_name": "PUI2016_Python2",
   "language": "python",
   "name": "pui2016_python2"
  },
  "language_info": {
   "codemirror_mode": {
    "name": "ipython",
    "version": 2
   },
   "file_extension": ".py",
   "mimetype": "text/x-python",
   "name": "python",
   "nbconvert_exporter": "python",
   "pygments_lexer": "ipython2",
   "version": "2.7.12"
  }
 },
 "nbformat": 4,
 "nbformat_minor": 0
}
