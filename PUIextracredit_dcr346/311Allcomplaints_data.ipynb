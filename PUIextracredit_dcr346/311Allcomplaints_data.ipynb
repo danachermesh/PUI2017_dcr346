{
 "cells": [
  {
   "cell_type": "markdown",
   "metadata": {},
   "source": [
    "# 311 All complaints data, year 2016\n",
    "\n",
    "Retrieved from [NYC Open Data](https://data.cityofnewyork.us/Social-Services/311-Service-Requests-from-2010-to-Present/erm2-nwe9/data) \n",
    "\n",
    "Data were filtered to include **January 2016 and June 2016 complaints only** prior downloading, in order to estimate the number of complaints per zipcode over a year.\n",
    "\n",
    "### * for PUI extra credit assignment, NYU CUSP, Fall 2017"
   ]
  },
  {
   "cell_type": "code",
   "execution_count": 1,
   "metadata": {
    "collapsed": true
   },
   "outputs": [],
   "source": [
    "from __future__ import print_function, division\n",
    "import sys\n",
    "import os\n",
    "import numpy as np\n",
    "import pylab as pl\n",
    "import pandas as pd"
   ]
  },
  {
   "cell_type": "code",
   "execution_count": 2,
   "metadata": {},
   "outputs": [
    {
     "data": {
      "text/html": [
       "<div>\n",
       "<style>\n",
       "    .dataframe thead tr:only-child th {\n",
       "        text-align: right;\n",
       "    }\n",
       "\n",
       "    .dataframe thead th {\n",
       "        text-align: left;\n",
       "    }\n",
       "\n",
       "    .dataframe tbody tr th {\n",
       "        vertical-align: top;\n",
       "    }\n",
       "</style>\n",
       "<table border=\"1\" class=\"dataframe\">\n",
       "  <thead>\n",
       "    <tr style=\"text-align: right;\">\n",
       "      <th></th>\n",
       "      <th>Unique Key</th>\n",
       "      <th>Created Date</th>\n",
       "      <th>Complaint Type</th>\n",
       "      <th>Descriptor</th>\n",
       "      <th>Incident Zip</th>\n",
       "      <th>Borough</th>\n",
       "      <th>Latitude</th>\n",
       "      <th>Longitude</th>\n",
       "      <th>Location</th>\n",
       "    </tr>\n",
       "  </thead>\n",
       "  <tbody>\n",
       "    <tr>\n",
       "      <th>0</th>\n",
       "      <td>33495503</td>\n",
       "      <td>06/01/2016 12:00:00 AM</td>\n",
       "      <td>Standing Water</td>\n",
       "      <td>Other - Explain Below</td>\n",
       "      <td>10312</td>\n",
       "      <td>STATEN ISLAND</td>\n",
       "      <td>40.545344</td>\n",
       "      <td>-74.160569</td>\n",
       "      <td>(40.54534417610026, -74.16056913244108)</td>\n",
       "    </tr>\n",
       "    <tr>\n",
       "      <th>1</th>\n",
       "      <td>33495502</td>\n",
       "      <td>06/01/2016 12:00:00 AM</td>\n",
       "      <td>Standing Water</td>\n",
       "      <td>Other - Explain Below</td>\n",
       "      <td>10473</td>\n",
       "      <td>BRONX</td>\n",
       "      <td>40.813512</td>\n",
       "      <td>-73.856670</td>\n",
       "      <td>(40.81351225004374, -73.85666990869612)</td>\n",
       "    </tr>\n",
       "    <tr>\n",
       "      <th>2</th>\n",
       "      <td>33495495</td>\n",
       "      <td>06/01/2016 12:00:00 AM</td>\n",
       "      <td>Standing Water</td>\n",
       "      <td>Other - Explain Below</td>\n",
       "      <td>10030</td>\n",
       "      <td>MANHATTAN</td>\n",
       "      <td>40.818012</td>\n",
       "      <td>-73.938332</td>\n",
       "      <td>(40.81801208313926, -73.93833230335083)</td>\n",
       "    </tr>\n",
       "    <tr>\n",
       "      <th>3</th>\n",
       "      <td>33495039</td>\n",
       "      <td>06/01/2016 12:00:00 AM</td>\n",
       "      <td>Standing Water</td>\n",
       "      <td>Swimming Pool Cover</td>\n",
       "      <td>11231</td>\n",
       "      <td>BROOKLYN</td>\n",
       "      <td>40.677465</td>\n",
       "      <td>-73.999567</td>\n",
       "      <td>(40.67746454483929, -73.99956737199814)</td>\n",
       "    </tr>\n",
       "    <tr>\n",
       "      <th>4</th>\n",
       "      <td>33494873</td>\n",
       "      <td>06/01/2016 12:00:00 AM</td>\n",
       "      <td>Standing Water</td>\n",
       "      <td>Tires</td>\n",
       "      <td>11416</td>\n",
       "      <td>QUEENS</td>\n",
       "      <td>40.689160</td>\n",
       "      <td>-73.842755</td>\n",
       "      <td>(40.68915963497661, -73.84275532464596)</td>\n",
       "    </tr>\n",
       "  </tbody>\n",
       "</table>\n",
       "</div>"
      ],
      "text/plain": [
       "   Unique Key            Created Date  Complaint Type             Descriptor  \\\n",
       "0    33495503  06/01/2016 12:00:00 AM  Standing Water  Other - Explain Below   \n",
       "1    33495502  06/01/2016 12:00:00 AM  Standing Water  Other - Explain Below   \n",
       "2    33495495  06/01/2016 12:00:00 AM  Standing Water  Other - Explain Below   \n",
       "3    33495039  06/01/2016 12:00:00 AM  Standing Water    Swimming Pool Cover   \n",
       "4    33494873  06/01/2016 12:00:00 AM  Standing Water                  Tires   \n",
       "\n",
       "  Incident Zip        Borough   Latitude  Longitude  \\\n",
       "0        10312  STATEN ISLAND  40.545344 -74.160569   \n",
       "1        10473          BRONX  40.813512 -73.856670   \n",
       "2        10030      MANHATTAN  40.818012 -73.938332   \n",
       "3        11231       BROOKLYN  40.677465 -73.999567   \n",
       "4        11416         QUEENS  40.689160 -73.842755   \n",
       "\n",
       "                                  Location  \n",
       "0  (40.54534417610026, -74.16056913244108)  \n",
       "1  (40.81351225004374, -73.85666990869612)  \n",
       "2  (40.81801208313926, -73.93833230335083)  \n",
       "3  (40.67746454483929, -73.99956737199814)  \n",
       "4  (40.68915963497661, -73.84275532464596)  "
      ]
     },
     "execution_count": 2,
     "metadata": {},
     "output_type": "execute_result"
    }
   ],
   "source": [
    "jun311 = pd.read_csv('311_Service_Requests_from_jun16.csv')\n",
    "jun311.head()"
   ]
  },
  {
   "cell_type": "code",
   "execution_count": 3,
   "metadata": {},
   "outputs": [
    {
     "data": {
      "text/plain": [
       "(277, 1)"
      ]
     },
     "execution_count": 3,
     "metadata": {},
     "output_type": "execute_result"
    }
   ],
   "source": [
    "jun311 = jun311.groupby('Incident Zip').count()\n",
    "jun311 = jun311[['Unique Key']]\n",
    "jun311.shape"
   ]
  },
  {
   "cell_type": "code",
   "execution_count": 4,
   "metadata": {},
   "outputs": [
    {
     "name": "stderr",
     "output_type": "stream",
     "text": [
      "/Applications/anaconda/lib/python3.6/site-packages/IPython/core/interactiveshell.py:2717: DtypeWarning: Columns (4) have mixed types. Specify dtype option on import or set low_memory=False.\n",
      "  interactivity=interactivity, compiler=compiler, result=result)\n"
     ]
    },
    {
     "data": {
      "text/html": [
       "<div>\n",
       "<style>\n",
       "    .dataframe thead tr:only-child th {\n",
       "        text-align: right;\n",
       "    }\n",
       "\n",
       "    .dataframe thead th {\n",
       "        text-align: left;\n",
       "    }\n",
       "\n",
       "    .dataframe tbody tr th {\n",
       "        vertical-align: top;\n",
       "    }\n",
       "</style>\n",
       "<table border=\"1\" class=\"dataframe\">\n",
       "  <thead>\n",
       "    <tr style=\"text-align: right;\">\n",
       "      <th></th>\n",
       "      <th>Unique Key</th>\n",
       "    </tr>\n",
       "    <tr>\n",
       "      <th>Incident Zip</th>\n",
       "      <th></th>\n",
       "    </tr>\n",
       "  </thead>\n",
       "  <tbody>\n",
       "    <tr>\n",
       "      <th>1150.0</th>\n",
       "      <td>1</td>\n",
       "    </tr>\n",
       "    <tr>\n",
       "      <th>7102.0</th>\n",
       "      <td>1</td>\n",
       "    </tr>\n",
       "    <tr>\n",
       "      <th>7104.0</th>\n",
       "      <td>1</td>\n",
       "    </tr>\n",
       "    <tr>\n",
       "      <th>7114.0</th>\n",
       "      <td>1</td>\n",
       "    </tr>\n",
       "    <tr>\n",
       "      <th>10001.0</th>\n",
       "      <td>92</td>\n",
       "    </tr>\n",
       "  </tbody>\n",
       "</table>\n",
       "</div>"
      ],
      "text/plain": [
       "              Unique Key\n",
       "Incident Zip            \n",
       "1150.0                 1\n",
       "7102.0                 1\n",
       "7104.0                 1\n",
       "7114.0                 1\n",
       "10001.0               92"
      ]
     },
     "execution_count": 4,
     "metadata": {},
     "output_type": "execute_result"
    }
   ],
   "source": [
    "jan311 = pd.read_csv('311_Service_Requests_from_jan2016.csv')\n",
    "jan311 = jan311.groupby('Incident Zip').count()\n",
    "jan311 = jan311[['Unique Key']]\n",
    "jan311.head()"
   ]
  },
  {
   "cell_type": "code",
   "execution_count": 5,
   "metadata": {},
   "outputs": [
    {
     "data": {
      "text/html": [
       "<div>\n",
       "<style>\n",
       "    .dataframe thead tr:only-child th {\n",
       "        text-align: right;\n",
       "    }\n",
       "\n",
       "    .dataframe thead th {\n",
       "        text-align: left;\n",
       "    }\n",
       "\n",
       "    .dataframe tbody tr th {\n",
       "        vertical-align: top;\n",
       "    }\n",
       "</style>\n",
       "<table border=\"1\" class=\"dataframe\">\n",
       "  <thead>\n",
       "    <tr style=\"text-align: right;\">\n",
       "      <th></th>\n",
       "      <th>winter</th>\n",
       "      <th>summer</th>\n",
       "    </tr>\n",
       "    <tr>\n",
       "      <th>Incident Zip</th>\n",
       "      <th></th>\n",
       "      <th></th>\n",
       "    </tr>\n",
       "  </thead>\n",
       "  <tbody>\n",
       "    <tr>\n",
       "      <th>00000</th>\n",
       "      <td>12</td>\n",
       "      <td>12</td>\n",
       "    </tr>\n",
       "    <tr>\n",
       "      <th>00083</th>\n",
       "      <td>6</td>\n",
       "      <td>54</td>\n",
       "    </tr>\n",
       "    <tr>\n",
       "      <th>07024</th>\n",
       "      <td>6</td>\n",
       "      <td>6</td>\n",
       "    </tr>\n",
       "    <tr>\n",
       "      <th>07114</th>\n",
       "      <td>84</td>\n",
       "      <td>72</td>\n",
       "    </tr>\n",
       "    <tr>\n",
       "      <th>07310</th>\n",
       "      <td>6</td>\n",
       "      <td>6</td>\n",
       "    </tr>\n",
       "  </tbody>\n",
       "</table>\n",
       "</div>"
      ],
      "text/plain": [
       "              winter  summer\n",
       "Incident Zip                \n",
       "00000             12      12\n",
       "00083              6      54\n",
       "07024              6       6\n",
       "07114             84      72\n",
       "07310              6       6"
      ]
     },
     "execution_count": 5,
     "metadata": {},
     "output_type": "execute_result"
    }
   ],
   "source": [
    "jan311['winter'] = jan311['Unique Key']*6\n",
    "jan311 = jan311[['winter']]\n",
    "\n",
    "jun311['summer'] = jun311['Unique Key']*6\n",
    "jun311 = jun311[['summer']]\n",
    "\n",
    "year16_311 = jan311.merge(jun311, left_index=True, right_index=True)\n",
    "year16_311.head()"
   ]
  },
  {
   "cell_type": "code",
   "execution_count": 6,
   "metadata": {},
   "outputs": [
    {
     "data": {
      "text/plain": [
       "(205, 2)"
      ]
     },
     "execution_count": 6,
     "metadata": {},
     "output_type": "execute_result"
    }
   ],
   "source": [
    "year16_311.shape"
   ]
  },
  {
   "cell_type": "code",
   "execution_count": 7,
   "metadata": {},
   "outputs": [
    {
     "data": {
      "text/html": [
       "<div>\n",
       "<style>\n",
       "    .dataframe thead tr:only-child th {\n",
       "        text-align: right;\n",
       "    }\n",
       "\n",
       "    .dataframe thead th {\n",
       "        text-align: left;\n",
       "    }\n",
       "\n",
       "    .dataframe tbody tr th {\n",
       "        vertical-align: top;\n",
       "    }\n",
       "</style>\n",
       "<table border=\"1\" class=\"dataframe\">\n",
       "  <thead>\n",
       "    <tr style=\"text-align: right;\">\n",
       "      <th></th>\n",
       "      <th>allcomplaints</th>\n",
       "    </tr>\n",
       "    <tr>\n",
       "      <th>Incident Zip</th>\n",
       "      <th></th>\n",
       "    </tr>\n",
       "  </thead>\n",
       "  <tbody>\n",
       "    <tr>\n",
       "      <th>00000</th>\n",
       "      <td>24</td>\n",
       "    </tr>\n",
       "    <tr>\n",
       "      <th>00083</th>\n",
       "      <td>60</td>\n",
       "    </tr>\n",
       "    <tr>\n",
       "      <th>07024</th>\n",
       "      <td>12</td>\n",
       "    </tr>\n",
       "    <tr>\n",
       "      <th>07114</th>\n",
       "      <td>156</td>\n",
       "    </tr>\n",
       "    <tr>\n",
       "      <th>07310</th>\n",
       "      <td>12</td>\n",
       "    </tr>\n",
       "  </tbody>\n",
       "</table>\n",
       "</div>"
      ],
      "text/plain": [
       "              allcomplaints\n",
       "Incident Zip               \n",
       "00000                    24\n",
       "00083                    60\n",
       "07024                    12\n",
       "07114                   156\n",
       "07310                    12"
      ]
     },
     "execution_count": 7,
     "metadata": {},
     "output_type": "execute_result"
    }
   ],
   "source": [
    "year16_311['allcomplaints'] = year16_311['winter'] + year16_311['summer']\n",
    "year16_311 = year16_311[['allcomplaints']]\n",
    "\n",
    "year16_311.head()"
   ]
  },
  {
   "cell_type": "code",
   "execution_count": 8,
   "metadata": {
    "collapsed": true
   },
   "outputs": [],
   "source": [
    "year16_311.to_csv('311allcomplaints.csv')"
   ]
  }
 ],
 "metadata": {
  "kernelspec": {
   "display_name": "Python 3",
   "language": "python",
   "name": "python3"
  },
  "language_info": {
   "codemirror_mode": {
    "name": "ipython",
    "version": 3
   },
   "file_extension": ".py",
   "mimetype": "text/x-python",
   "name": "python",
   "nbconvert_exporter": "python",
   "pygments_lexer": "ipython3",
   "version": "3.6.1"
  }
 },
 "nbformat": 4,
 "nbformat_minor": 2
}
